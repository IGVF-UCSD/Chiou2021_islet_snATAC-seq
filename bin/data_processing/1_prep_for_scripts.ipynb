{
 "cells": [
  {
   "attachments": {},
   "cell_type": "markdown",
   "metadata": {},
   "source": [
    "# Prep for scripts"
   ]
  },
  {
   "cell_type": "code",
   "execution_count": 87,
   "metadata": {},
   "outputs": [],
   "source": [
    "# Imports\n",
    "import os\n",
    "import glob\n",
    "import pickle\n",
    "import pandas as pd"
   ]
  },
  {
   "cell_type": "code",
   "execution_count": 3,
   "metadata": {},
   "outputs": [],
   "source": [
    "# Set paths\n",
    "sra_metadata = \"/cellar/users/aklie/data/datasets/Chiou2021_islet_snATAC-seq/bin/data_acquisition/SRP290255_metadata.tsv\""
   ]
  },
  {
   "cell_type": "code",
   "execution_count": 22,
   "metadata": {},
   "outputs": [
    {
     "data": {
      "text/plain": [
       "(4,\n",
       " ['/cellar/users/aklie/data/datasets/Chiou2021_islet_snATAC-seq/fastq/SRP290255/SRX9409841',\n",
       "  '/cellar/users/aklie/data/datasets/Chiou2021_islet_snATAC-seq/fastq/SRP290255/SRX9409842',\n",
       "  '/cellar/users/aklie/data/datasets/Chiou2021_islet_snATAC-seq/fastq/SRP290255/SRX9409843',\n",
       "  '/cellar/users/aklie/data/datasets/Chiou2021_islet_snATAC-seq/fastq/SRP290255/SRX9409844'])"
      ]
     },
     "execution_count": 22,
     "metadata": {},
     "output_type": "execute_result"
    }
   ],
   "source": [
    "# Grab datasets dirs\n",
    "datasets = sorted(glob.glob(\"/cellar/users/aklie/data/datasets/Chiou2021_islet_snATAC-seq/fastq/SRP290255/*\"))\n",
    "datasets = [x for x in datasets if \"vdb_validate_all.out\" not in x][:-1]\n",
    "len(datasets), datasets"
   ]
  },
  {
   "cell_type": "code",
   "execution_count": 29,
   "metadata": {},
   "outputs": [
    {
     "data": {
      "text/html": [
       "<div>\n",
       "<style scoped>\n",
       "    .dataframe tbody tr th:only-of-type {\n",
       "        vertical-align: middle;\n",
       "    }\n",
       "\n",
       "    .dataframe tbody tr th {\n",
       "        vertical-align: top;\n",
       "    }\n",
       "\n",
       "    .dataframe thead th {\n",
       "        text-align: right;\n",
       "    }\n",
       "</style>\n",
       "<table border=\"1\" class=\"dataframe\">\n",
       "  <thead>\n",
       "    <tr style=\"text-align: right;\">\n",
       "      <th></th>\n",
       "      <th>run_accession</th>\n",
       "      <th>study_accession</th>\n",
       "      <th>study_title</th>\n",
       "      <th>experiment_accession</th>\n",
       "      <th>experiment_title</th>\n",
       "      <th>experiment_desc</th>\n",
       "      <th>organism_taxid</th>\n",
       "      <th>organism_name</th>\n",
       "      <th>library_name</th>\n",
       "      <th>library_strategy</th>\n",
       "      <th>...</th>\n",
       "      <th>age</th>\n",
       "      <th>bmi</th>\n",
       "      <th>donor id</th>\n",
       "      <th>ena_fastq_http</th>\n",
       "      <th>ena_fastq_http_1</th>\n",
       "      <th>ena_fastq_http_2</th>\n",
       "      <th>ena_fastq_ftp</th>\n",
       "      <th>ena_fastq_ftp_1</th>\n",
       "      <th>ena_fastq_ftp_2</th>\n",
       "      <th>sample_id</th>\n",
       "    </tr>\n",
       "  </thead>\n",
       "  <tbody>\n",
       "    <tr>\n",
       "      <th>0</th>\n",
       "      <td>SRR12957013</td>\n",
       "      <td>SRP290255</td>\n",
       "      <td>Single-cell chromatin accessibility identifies...</td>\n",
       "      <td>SRX9409841</td>\n",
       "      <td>GSM4873768: Islet 1 snATAC (CB); Homo sapiens;...</td>\n",
       "      <td>GSM4873768: Islet 1 snATAC (CB); Homo sapiens;...</td>\n",
       "      <td>9606</td>\n",
       "      <td>Homo sapiens</td>\n",
       "      <td>NaN</td>\n",
       "      <td>ATAC-seq</td>\n",
       "      <td>...</td>\n",
       "      <td>32</td>\n",
       "      <td>32.3</td>\n",
       "      <td>UNOS:AFC2208</td>\n",
       "      <td>NaN</td>\n",
       "      <td>NaN</td>\n",
       "      <td>NaN</td>\n",
       "      <td>NaN</td>\n",
       "      <td>NaN</td>\n",
       "      <td>NaN</td>\n",
       "      <td>UNOS_AFC2208</td>\n",
       "    </tr>\n",
       "    <tr>\n",
       "      <th>1</th>\n",
       "      <td>SRR12957014</td>\n",
       "      <td>SRP290255</td>\n",
       "      <td>Single-cell chromatin accessibility identifies...</td>\n",
       "      <td>SRX9409842</td>\n",
       "      <td>GSM4873769: Islet 2 snATAC (CB); Homo sapiens;...</td>\n",
       "      <td>GSM4873769: Islet 2 snATAC (CB); Homo sapiens;...</td>\n",
       "      <td>9606</td>\n",
       "      <td>Homo sapiens</td>\n",
       "      <td>NaN</td>\n",
       "      <td>ATAC-seq</td>\n",
       "      <td>...</td>\n",
       "      <td>45</td>\n",
       "      <td>29.3</td>\n",
       "      <td>UNOS:AFEA331</td>\n",
       "      <td>NaN</td>\n",
       "      <td>NaN</td>\n",
       "      <td>NaN</td>\n",
       "      <td>NaN</td>\n",
       "      <td>NaN</td>\n",
       "      <td>NaN</td>\n",
       "      <td>UNOS_AFEA331</td>\n",
       "    </tr>\n",
       "    <tr>\n",
       "      <th>2</th>\n",
       "      <td>SRR12957015</td>\n",
       "      <td>SRP290255</td>\n",
       "      <td>Single-cell chromatin accessibility identifies...</td>\n",
       "      <td>SRX9409843</td>\n",
       "      <td>GSM4873770: Islet 3 snATAC (CB); Homo sapiens;...</td>\n",
       "      <td>GSM4873770: Islet 3 snATAC (CB); Homo sapiens;...</td>\n",
       "      <td>9606</td>\n",
       "      <td>Homo sapiens</td>\n",
       "      <td>NaN</td>\n",
       "      <td>ATAC-seq</td>\n",
       "      <td>...</td>\n",
       "      <td>62</td>\n",
       "      <td>36.1</td>\n",
       "      <td>UNOS:AFEP022</td>\n",
       "      <td>NaN</td>\n",
       "      <td>NaN</td>\n",
       "      <td>NaN</td>\n",
       "      <td>NaN</td>\n",
       "      <td>NaN</td>\n",
       "      <td>NaN</td>\n",
       "      <td>UNOS_AFEP022</td>\n",
       "    </tr>\n",
       "    <tr>\n",
       "      <th>3</th>\n",
       "      <td>SRR12957016</td>\n",
       "      <td>SRP290255</td>\n",
       "      <td>Single-cell chromatin accessibility identifies...</td>\n",
       "      <td>SRX9409844</td>\n",
       "      <td>GSM4873771: Pancreas 1 snATAC (CB); Homo sapie...</td>\n",
       "      <td>GSM4873771: Pancreas 1 snATAC (CB); Homo sapie...</td>\n",
       "      <td>9606</td>\n",
       "      <td>Homo sapiens</td>\n",
       "      <td>NaN</td>\n",
       "      <td>ATAC-seq</td>\n",
       "      <td>...</td>\n",
       "      <td>33</td>\n",
       "      <td>30.9</td>\n",
       "      <td>nPOD:6004</td>\n",
       "      <td>NaN</td>\n",
       "      <td>NaN</td>\n",
       "      <td>NaN</td>\n",
       "      <td>NaN</td>\n",
       "      <td>NaN</td>\n",
       "      <td>NaN</td>\n",
       "      <td>nPOD_6004</td>\n",
       "    </tr>\n",
       "  </tbody>\n",
       "</table>\n",
       "<p>4 rows × 55 columns</p>\n",
       "</div>"
      ],
      "text/plain": [
       "  run_accession study_accession  \\\n",
       "0   SRR12957013       SRP290255   \n",
       "1   SRR12957014       SRP290255   \n",
       "2   SRR12957015       SRP290255   \n",
       "3   SRR12957016       SRP290255   \n",
       "\n",
       "                                         study_title experiment_accession  \\\n",
       "0  Single-cell chromatin accessibility identifies...           SRX9409841   \n",
       "1  Single-cell chromatin accessibility identifies...           SRX9409842   \n",
       "2  Single-cell chromatin accessibility identifies...           SRX9409843   \n",
       "3  Single-cell chromatin accessibility identifies...           SRX9409844   \n",
       "\n",
       "                                    experiment_title  \\\n",
       "0  GSM4873768: Islet 1 snATAC (CB); Homo sapiens;...   \n",
       "1  GSM4873769: Islet 2 snATAC (CB); Homo sapiens;...   \n",
       "2  GSM4873770: Islet 3 snATAC (CB); Homo sapiens;...   \n",
       "3  GSM4873771: Pancreas 1 snATAC (CB); Homo sapie...   \n",
       "\n",
       "                                     experiment_desc  organism_taxid  \\\n",
       "0  GSM4873768: Islet 1 snATAC (CB); Homo sapiens;...            9606   \n",
       "1  GSM4873769: Islet 2 snATAC (CB); Homo sapiens;...            9606   \n",
       "2  GSM4873770: Islet 3 snATAC (CB); Homo sapiens;...            9606   \n",
       "3  GSM4873771: Pancreas 1 snATAC (CB); Homo sapie...            9606   \n",
       "\n",
       "  organism_name  library_name library_strategy  ... age   bmi      donor id  \\\n",
       "0  Homo sapiens           NaN         ATAC-seq  ...  32  32.3  UNOS:AFC2208   \n",
       "1  Homo sapiens           NaN         ATAC-seq  ...  45  29.3  UNOS:AFEA331   \n",
       "2  Homo sapiens           NaN         ATAC-seq  ...  62  36.1  UNOS:AFEP022   \n",
       "3  Homo sapiens           NaN         ATAC-seq  ...  33  30.9     nPOD:6004   \n",
       "\n",
       "  ena_fastq_http  ena_fastq_http_1 ena_fastq_http_2 ena_fastq_ftp  \\\n",
       "0            NaN               NaN              NaN           NaN   \n",
       "1            NaN               NaN              NaN           NaN   \n",
       "2            NaN               NaN              NaN           NaN   \n",
       "3            NaN               NaN              NaN           NaN   \n",
       "\n",
       "  ena_fastq_ftp_1  ena_fastq_ftp_2     sample_id  \n",
       "0             NaN              NaN  UNOS_AFC2208  \n",
       "1             NaN              NaN  UNOS_AFEA331  \n",
       "2             NaN              NaN  UNOS_AFEP022  \n",
       "3             NaN              NaN     nPOD_6004  \n",
       "\n",
       "[4 rows x 55 columns]"
      ]
     },
     "execution_count": 29,
     "metadata": {},
     "output_type": "execute_result"
    }
   ],
   "source": [
    "# Add SRA accessions\n",
    "sra_df = pd.read_csv(sra_metadata, sep=\"\\t\")\n",
    "#sra_df[\"sample_id\"] = sra_df[\"experiment_title\"].str.split(\":\", expand=True)[1].str.split(\"snATAC\", expand=True)[0].str.strip()\n",
    "sra_df[\"sample_id\"] = sra_df[\"donor id\"].str.replace(\":\", \"_\")\n",
    "sra_df = sra_df.iloc[:-1]  # Drop the last row (will handle this separately)\n",
    "sra_df.head()"
   ]
  },
  {
   "cell_type": "code",
   "execution_count": 31,
   "metadata": {},
   "outputs": [
    {
     "data": {
      "text/plain": [
       "{'SRX9409841': 'UNOS_AFC2208',\n",
       " 'SRX9409842': 'UNOS_AFEA331',\n",
       " 'SRX9409843': 'UNOS_AFEP022',\n",
       " 'SRX9409844': 'nPOD_6004'}"
      ]
     },
     "execution_count": 31,
     "metadata": {},
     "output_type": "execute_result"
    }
   ],
   "source": [
    "# Get a mapping of experiment accessions to sample ids, useful for chromap and CellRanger\n",
    "expacc_to_sample = sra_df.set_index(\"experiment_accession\")[\"sample_id\"].to_dict()\n",
    "expacc_to_sample"
   ]
  },
  {
   "cell_type": "code",
   "execution_count": 35,
   "metadata": {},
   "outputs": [
    {
     "data": {
      "text/plain": [
       "dict_values(['UNOS_AFC2208', 'UNOS_AFEA331', 'UNOS_AFEP022', 'nPOD_6004'])"
      ]
     },
     "execution_count": 35,
     "metadata": {},
     "output_type": "execute_result"
    }
   ],
   "source": [
    "expacc_to_sample.values()"
   ]
  },
  {
   "cell_type": "code",
   "execution_count": 33,
   "metadata": {},
   "outputs": [
    {
     "name": "stdout",
     "output_type": "stream",
     "text": [
      "mv /cellar/users/aklie/data/datasets/Chiou2021_islet_snATAC-seq/fastq/SRP290255/SRX9409841/SRR12957013_1.fastq.gz /cellar/users/aklie/data/datasets/Chiou2021_islet_snATAC-seq/fastq/SRP290255/SRX9409841/UNOS_AFC2208_R1.fastq.gz\n",
      "mv /cellar/users/aklie/data/datasets/Chiou2021_islet_snATAC-seq/fastq/SRP290255/SRX9409841/SRR12957013_2.fastq.gz /cellar/users/aklie/data/datasets/Chiou2021_islet_snATAC-seq/fastq/SRP290255/SRX9409841/UNOS_AFC2208_R2.fastq.gz\n",
      "mv /cellar/users/aklie/data/datasets/Chiou2021_islet_snATAC-seq/fastq/SRP290255/SRX9409842/SRR12957014_1.fastq.gz /cellar/users/aklie/data/datasets/Chiou2021_islet_snATAC-seq/fastq/SRP290255/SRX9409842/UNOS_AFEA331_R1.fastq.gz\n",
      "mv /cellar/users/aklie/data/datasets/Chiou2021_islet_snATAC-seq/fastq/SRP290255/SRX9409842/SRR12957014_2.fastq.gz /cellar/users/aklie/data/datasets/Chiou2021_islet_snATAC-seq/fastq/SRP290255/SRX9409842/UNOS_AFEA331_R2.fastq.gz\n",
      "mv /cellar/users/aklie/data/datasets/Chiou2021_islet_snATAC-seq/fastq/SRP290255/SRX9409843/SRR12957015_2.fastq.gz /cellar/users/aklie/data/datasets/Chiou2021_islet_snATAC-seq/fastq/SRP290255/SRX9409843/UNOS_AFEP022_R2.fastq.gz\n",
      "mv /cellar/users/aklie/data/datasets/Chiou2021_islet_snATAC-seq/fastq/SRP290255/SRX9409843/SRR12957015_1.fastq.gz /cellar/users/aklie/data/datasets/Chiou2021_islet_snATAC-seq/fastq/SRP290255/SRX9409843/UNOS_AFEP022_R1.fastq.gz\n",
      "mv /cellar/users/aklie/data/datasets/Chiou2021_islet_snATAC-seq/fastq/SRP290255/SRX9409844/SRR12957016_1.fastq.gz /cellar/users/aklie/data/datasets/Chiou2021_islet_snATAC-seq/fastq/SRP290255/SRX9409844/nPOD_6004_R1.fastq.gz\n",
      "mv /cellar/users/aklie/data/datasets/Chiou2021_islet_snATAC-seq/fastq/SRP290255/SRX9409844/SRR12957016_2.fastq.gz /cellar/users/aklie/data/datasets/Chiou2021_islet_snATAC-seq/fastq/SRP290255/SRX9409844/nPOD_6004_R2.fastq.gz\n"
     ]
    }
   ],
   "source": [
    "# Rename for convenience\n",
    "for dataset in datasets:\n",
    "    fastq_files = glob.glob(os.path.join(dataset, \"*.fastq.gz\"))\n",
    "    file_mapping = {}\n",
    "    for fastq_file in fastq_files:\n",
    "        read_type = fastq_file.split(\"_\")[-1].split(\".\")[0]\n",
    "        file_path = os.path.dirname(fastq_file)\n",
    "        exp_acc = os.path.basename(file_path).split(\"_\")[0]\n",
    "        sample_id = expacc_to_sample[exp_acc]\n",
    "        new_file = f\"{file_path}/{sample_id}_R{read_type}.fastq.gz\"\n",
    "        file_mapping[fastq_file] = new_file\n",
    "        cmd = f\"mv {fastq_file} {new_file}\"\n",
    "        print(cmd)\n",
    "        os.system(cmd)\n",
    "    with open(os.path.join(file_path, \"file_mapping.pickle\"), \"wb\") as f:\n",
    "        pickle.dump(file_mapping, f)"
   ]
  },
  {
   "cell_type": "code",
   "execution_count": 45,
   "metadata": {},
   "outputs": [],
   "source": [
    "import gzip\n",
    "\n",
    "def extract_barcodes(input_fastq, output_fastq, n_reads=None, return_bcs=False):\n",
    "    # Determine if the input/output files are gzipped based on the file extension\n",
    "    if input_fastq.endswith('.gz'):\n",
    "        open_func = gzip.open\n",
    "        mode = 'rt'  # Text mode for reading\n",
    "        write_mode = 'wt'  # Text mode for writing\n",
    "    else:\n",
    "        open_func = open\n",
    "        mode = 'r'\n",
    "        write_mode = 'w'\n",
    "    bcs = []\n",
    "    with open_func(input_fastq, mode) as infile, open_func(output_fastq, write_mode) as outfile:\n",
    "        read_count = 0\n",
    "        while True:\n",
    "            header = infile.readline().strip()\n",
    "            if not header:\n",
    "                break  # End of file\n",
    "            sequence = infile.readline().strip()\n",
    "            plus = infile.readline().strip()\n",
    "            quality = infile.readline().strip()\n",
    "\n",
    "            # Extract barcode (assuming it's the first element in the description part of the header)\n",
    "            barcode = header.split()[1].split(':')[0]\n",
    "\n",
    "            # Append to list\n",
    "            bcs.append(barcode)\n",
    "            \n",
    "            # Write to output file\n",
    "            outfile.write(header + '\\n')\n",
    "            outfile.write(barcode + '\\n')\n",
    "            outfile.write(plus + '\\n')\n",
    "            outfile.write('?' * len(barcode) + '\\n')  # Assuming all quality scores are '?'\n",
    "\n",
    "            read_count += 1\n",
    "            if n_reads is not None and read_count >= n_reads:\n",
    "                break\n",
    "    if return_bcs:\n",
    "        return bcs"
   ]
  },
  {
   "cell_type": "code",
   "execution_count": 86,
   "metadata": {},
   "outputs": [
    {
     "name": "stdout",
     "output_type": "stream",
     "text": [
      "Extracted barcodes from /cellar/users/aklie/data/datasets/Chiou2021_islet_snATAC-seq/fastq/SRP290255/SRX9409841/UNOS_AFC2208_R1.fastq.gz to /cellar/users/aklie/data/datasets/Chiou2021_islet_snATAC-seq/fastq/SRP290255/SRX9409841/UNOS_AFC2208_barcodes.fastq.gz\n",
      "Extracted barcodes from /cellar/users/aklie/data/datasets/Chiou2021_islet_snATAC-seq/fastq/SRP290255/SRX9409842/UNOS_AFEA331_R1.fastq.gz to /cellar/users/aklie/data/datasets/Chiou2021_islet_snATAC-seq/fastq/SRP290255/SRX9409842/UNOS_AFEA331_barcodes.fastq.gz\n",
      "Extracted barcodes from /cellar/users/aklie/data/datasets/Chiou2021_islet_snATAC-seq/fastq/SRP290255/SRX9409843/UNOS_AFEP022_R1.fastq.gz to /cellar/users/aklie/data/datasets/Chiou2021_islet_snATAC-seq/fastq/SRP290255/SRX9409843/UNOS_AFEP022_barcodes.fastq.gz\n",
      "Extracted barcodes from /cellar/users/aklie/data/datasets/Chiou2021_islet_snATAC-seq/fastq/SRP290255/SRX9409844/nPOD_6004_R1.fastq.gz to /cellar/users/aklie/data/datasets/Chiou2021_islet_snATAC-seq/fastq/SRP290255/SRX9409844/nPOD_6004_barcodes.fastq.gz\n"
     ]
    }
   ],
   "source": [
    "for dataset in datasets:\n",
    "    fastq_files = glob.glob(os.path.join(dataset, \"*R1.fastq.gz\"))\n",
    "    for fastq_file in fastq_files:\n",
    "        output_fastq = fastq_file.replace(\"R1.fastq.gz\", \"barcodes.fastq.gz\")\n",
    "        extract_barcodes(fastq_file, output_fastq)\n",
    "        print(f\"Extracted barcodes from {fastq_file} to {output_fastq}\")"
   ]
  },
  {
   "cell_type": "code",
   "execution_count": 73,
   "metadata": {},
   "outputs": [],
   "source": [
    "test_r1 = \"/cellar/users/aklie/data/datasets/Chiou2021_islet_snATAC-seq/fastq/SRP290255/SRX9409842/UNOS_AFEA331_R1.fastq.gz\"\n",
    "test_r1_bc = \"/cellar/users/aklie/data/datasets/Chiou2021_islet_snATAC-seq/fastq/SRP290255/SRX9409842/UNOS_AFEA331_R3.fastq.gz\""
   ]
  },
  {
   "cell_type": "code",
   "execution_count": 74,
   "metadata": {},
   "outputs": [],
   "source": [
    "r1_bcs = extract_barcodes(test_r1, test_r1_bc, n_reads=100000, return_bcs=True)"
   ]
  },
  {
   "cell_type": "code",
   "execution_count": 79,
   "metadata": {},
   "outputs": [],
   "source": [
    "test_r2 = \"/cellar/users/aklie/data/datasets/Chiou2021_islet_snATAC-seq/fastq/SRP290255/SRX9409842/UNOS_AFEA331_R2.fastq.gz\"\n",
    "test_r2_bc = \"/cellar/users/aklie/data/datasets/Chiou2021_islet_snATAC-seq/fastq/SRP290255/SRX9409842/UNOS_AFEA331_R3.fastq.gz\""
   ]
  },
  {
   "cell_type": "code",
   "execution_count": 80,
   "metadata": {},
   "outputs": [],
   "source": [
    "r2_bcs = extract_barcodes(test_r2, test_r2_bc, n_reads=100000, return_bcs=True)"
   ]
  },
  {
   "cell_type": "code",
   "execution_count": 81,
   "metadata": {},
   "outputs": [],
   "source": [
    "# Get matching and mismatching barcodes\n",
    "for i, (bc1, bc2) in enumerate(zip(r1_bcs, r2_bcs)):\n",
    "    if bc1 != bc2:\n",
    "        print(i, bc1, bc2)"
   ]
  },
  {
   "attachments": {},
   "cell_type": "markdown",
   "metadata": {},
   "source": [
    "# "
   ]
  },
  {
   "attachments": {},
   "cell_type": "markdown",
   "metadata": {},
   "source": [
    "# "
   ]
  },
  {
   "cell_type": "code",
   "execution_count": 89,
   "metadata": {},
   "outputs": [
    {
     "data": {
      "text/plain": [
       "Index(['run_accession', 'study_accession', 'study_title',\n",
       "       'experiment_accession', 'experiment_title', 'experiment_desc',\n",
       "       'organism_taxid', 'organism_name', 'library_name', 'library_strategy',\n",
       "       'library_source', 'library_selection', 'library_layout',\n",
       "       'sample_accession', 'sample_title', 'instrument', 'instrument_model',\n",
       "       'instrument_model_desc', 'total_spots', 'total_size', 'run_total_spots',\n",
       "       'run_total_bases', 'run_alias', 'public_filename', 'public_size',\n",
       "       'public_date', 'public_md5', 'public_version', 'public_semantic_name',\n",
       "       'public_supertype', 'public_sratoolkit', 'aws_url', 'aws_free_egress',\n",
       "       'aws_access_type', 'public_url', 'ncbi_url', 'ncbi_free_egress',\n",
       "       'ncbi_access_type', 'gcp_url', 'gcp_free_egress', 'gcp_access_type',\n",
       "       'experiment_alias', 'source_name', 'tissue', 'sex', 'age', 'bmi',\n",
       "       'donor id', 'ena_fastq_http', 'ena_fastq_http_1', 'ena_fastq_http_2',\n",
       "       'ena_fastq_ftp', 'ena_fastq_ftp_1', 'ena_fastq_ftp_2', 'sample_id'],\n",
       "      dtype='object')"
      ]
     },
     "execution_count": 89,
     "metadata": {},
     "output_type": "execute_result"
    }
   ],
   "source": [
    "sra_df.columns"
   ]
  },
  {
   "cell_type": "code",
   "execution_count": 90,
   "metadata": {},
   "outputs": [],
   "source": [
    "# Paths\n",
    "outdir_path = \"/cellar/users/aklie/data/datasets/Chiou2021_islet_snATAC-seq/metadata/2024_04_22\""
   ]
  },
  {
   "cell_type": "code",
   "execution_count": 91,
   "metadata": {},
   "outputs": [],
   "source": [
    "# make output directory\n",
    "os.makedirs(outdir_path, exist_ok=True)"
   ]
  },
  {
   "attachments": {},
   "cell_type": "markdown",
   "metadata": {},
   "source": [
    "# For processing with SnapATAC2"
   ]
  },
  {
   "cell_type": "code",
   "execution_count": 98,
   "metadata": {},
   "outputs": [
    {
     "data": {
      "text/html": [
       "<div>\n",
       "<style scoped>\n",
       "    .dataframe tbody tr th:only-of-type {\n",
       "        vertical-align: middle;\n",
       "    }\n",
       "\n",
       "    .dataframe tbody tr th {\n",
       "        vertical-align: top;\n",
       "    }\n",
       "\n",
       "    .dataframe thead th {\n",
       "        text-align: right;\n",
       "    }\n",
       "</style>\n",
       "<table border=\"1\" class=\"dataframe\">\n",
       "  <thead>\n",
       "    <tr style=\"text-align: right;\">\n",
       "      <th></th>\n",
       "      <th>run_accession</th>\n",
       "      <th>study_accession</th>\n",
       "      <th>study_title</th>\n",
       "      <th>experiment_accession</th>\n",
       "      <th>experiment_title</th>\n",
       "      <th>experiment_desc</th>\n",
       "      <th>organism_taxid</th>\n",
       "      <th>organism_name</th>\n",
       "      <th>library_name</th>\n",
       "      <th>library_strategy</th>\n",
       "      <th>...</th>\n",
       "      <th>age</th>\n",
       "      <th>bmi</th>\n",
       "      <th>donor id</th>\n",
       "      <th>ena_fastq_http</th>\n",
       "      <th>ena_fastq_http_1</th>\n",
       "      <th>ena_fastq_http_2</th>\n",
       "      <th>ena_fastq_ftp</th>\n",
       "      <th>ena_fastq_ftp_1</th>\n",
       "      <th>ena_fastq_ftp_2</th>\n",
       "      <th>sample_id</th>\n",
       "    </tr>\n",
       "  </thead>\n",
       "  <tbody>\n",
       "    <tr>\n",
       "      <th>0</th>\n",
       "      <td>SRR12957013</td>\n",
       "      <td>SRP290255</td>\n",
       "      <td>Single-cell chromatin accessibility identifies...</td>\n",
       "      <td>SRX9409841</td>\n",
       "      <td>GSM4873768: Islet 1 snATAC (CB); Homo sapiens;...</td>\n",
       "      <td>GSM4873768: Islet 1 snATAC (CB); Homo sapiens;...</td>\n",
       "      <td>9606</td>\n",
       "      <td>Homo sapiens</td>\n",
       "      <td>NaN</td>\n",
       "      <td>ATAC-seq</td>\n",
       "      <td>...</td>\n",
       "      <td>32</td>\n",
       "      <td>32.3</td>\n",
       "      <td>UNOS:AFC2208</td>\n",
       "      <td>NaN</td>\n",
       "      <td>NaN</td>\n",
       "      <td>NaN</td>\n",
       "      <td>NaN</td>\n",
       "      <td>NaN</td>\n",
       "      <td>NaN</td>\n",
       "      <td>UNOS_AFC2208</td>\n",
       "    </tr>\n",
       "    <tr>\n",
       "      <th>1</th>\n",
       "      <td>SRR12957014</td>\n",
       "      <td>SRP290255</td>\n",
       "      <td>Single-cell chromatin accessibility identifies...</td>\n",
       "      <td>SRX9409842</td>\n",
       "      <td>GSM4873769: Islet 2 snATAC (CB); Homo sapiens;...</td>\n",
       "      <td>GSM4873769: Islet 2 snATAC (CB); Homo sapiens;...</td>\n",
       "      <td>9606</td>\n",
       "      <td>Homo sapiens</td>\n",
       "      <td>NaN</td>\n",
       "      <td>ATAC-seq</td>\n",
       "      <td>...</td>\n",
       "      <td>45</td>\n",
       "      <td>29.3</td>\n",
       "      <td>UNOS:AFEA331</td>\n",
       "      <td>NaN</td>\n",
       "      <td>NaN</td>\n",
       "      <td>NaN</td>\n",
       "      <td>NaN</td>\n",
       "      <td>NaN</td>\n",
       "      <td>NaN</td>\n",
       "      <td>UNOS_AFEA331</td>\n",
       "    </tr>\n",
       "    <tr>\n",
       "      <th>2</th>\n",
       "      <td>SRR12957015</td>\n",
       "      <td>SRP290255</td>\n",
       "      <td>Single-cell chromatin accessibility identifies...</td>\n",
       "      <td>SRX9409843</td>\n",
       "      <td>GSM4873770: Islet 3 snATAC (CB); Homo sapiens;...</td>\n",
       "      <td>GSM4873770: Islet 3 snATAC (CB); Homo sapiens;...</td>\n",
       "      <td>9606</td>\n",
       "      <td>Homo sapiens</td>\n",
       "      <td>NaN</td>\n",
       "      <td>ATAC-seq</td>\n",
       "      <td>...</td>\n",
       "      <td>62</td>\n",
       "      <td>36.1</td>\n",
       "      <td>UNOS:AFEP022</td>\n",
       "      <td>NaN</td>\n",
       "      <td>NaN</td>\n",
       "      <td>NaN</td>\n",
       "      <td>NaN</td>\n",
       "      <td>NaN</td>\n",
       "      <td>NaN</td>\n",
       "      <td>UNOS_AFEP022</td>\n",
       "    </tr>\n",
       "    <tr>\n",
       "      <th>3</th>\n",
       "      <td>SRR12957016</td>\n",
       "      <td>SRP290255</td>\n",
       "      <td>Single-cell chromatin accessibility identifies...</td>\n",
       "      <td>SRX9409844</td>\n",
       "      <td>GSM4873771: Pancreas 1 snATAC (CB); Homo sapie...</td>\n",
       "      <td>GSM4873771: Pancreas 1 snATAC (CB); Homo sapie...</td>\n",
       "      <td>9606</td>\n",
       "      <td>Homo sapiens</td>\n",
       "      <td>NaN</td>\n",
       "      <td>ATAC-seq</td>\n",
       "      <td>...</td>\n",
       "      <td>33</td>\n",
       "      <td>30.9</td>\n",
       "      <td>nPOD:6004</td>\n",
       "      <td>NaN</td>\n",
       "      <td>NaN</td>\n",
       "      <td>NaN</td>\n",
       "      <td>NaN</td>\n",
       "      <td>NaN</td>\n",
       "      <td>NaN</td>\n",
       "      <td>nPOD_6004</td>\n",
       "    </tr>\n",
       "    <tr>\n",
       "      <th>4</th>\n",
       "      <td>SRR14135828</td>\n",
       "      <td>SRP290255</td>\n",
       "      <td>Single-cell chromatin accessibility identifies...</td>\n",
       "      <td>SRX9409845</td>\n",
       "      <td>GSM4873772: Pancreas 1 snATAC (10X); Homo sapi...</td>\n",
       "      <td>GSM4873772: Pancreas 1 snATAC (10X); Homo sapi...</td>\n",
       "      <td>9606</td>\n",
       "      <td>Homo sapiens</td>\n",
       "      <td>NaN</td>\n",
       "      <td>ATAC-seq</td>\n",
       "      <td>...</td>\n",
       "      <td>33</td>\n",
       "      <td>30.9</td>\n",
       "      <td>nPOD:6004</td>\n",
       "      <td>NaN</td>\n",
       "      <td>NaN</td>\n",
       "      <td>NaN</td>\n",
       "      <td>NaN</td>\n",
       "      <td>NaN</td>\n",
       "      <td>NaN</td>\n",
       "      <td>nPOD_6004</td>\n",
       "    </tr>\n",
       "  </tbody>\n",
       "</table>\n",
       "<p>5 rows × 55 columns</p>\n",
       "</div>"
      ],
      "text/plain": [
       "  run_accession study_accession  \\\n",
       "0   SRR12957013       SRP290255   \n",
       "1   SRR12957014       SRP290255   \n",
       "2   SRR12957015       SRP290255   \n",
       "3   SRR12957016       SRP290255   \n",
       "4   SRR14135828       SRP290255   \n",
       "\n",
       "                                         study_title experiment_accession  \\\n",
       "0  Single-cell chromatin accessibility identifies...           SRX9409841   \n",
       "1  Single-cell chromatin accessibility identifies...           SRX9409842   \n",
       "2  Single-cell chromatin accessibility identifies...           SRX9409843   \n",
       "3  Single-cell chromatin accessibility identifies...           SRX9409844   \n",
       "4  Single-cell chromatin accessibility identifies...           SRX9409845   \n",
       "\n",
       "                                    experiment_title  \\\n",
       "0  GSM4873768: Islet 1 snATAC (CB); Homo sapiens;...   \n",
       "1  GSM4873769: Islet 2 snATAC (CB); Homo sapiens;...   \n",
       "2  GSM4873770: Islet 3 snATAC (CB); Homo sapiens;...   \n",
       "3  GSM4873771: Pancreas 1 snATAC (CB); Homo sapie...   \n",
       "4  GSM4873772: Pancreas 1 snATAC (10X); Homo sapi...   \n",
       "\n",
       "                                     experiment_desc  organism_taxid  \\\n",
       "0  GSM4873768: Islet 1 snATAC (CB); Homo sapiens;...            9606   \n",
       "1  GSM4873769: Islet 2 snATAC (CB); Homo sapiens;...            9606   \n",
       "2  GSM4873770: Islet 3 snATAC (CB); Homo sapiens;...            9606   \n",
       "3  GSM4873771: Pancreas 1 snATAC (CB); Homo sapie...            9606   \n",
       "4  GSM4873772: Pancreas 1 snATAC (10X); Homo sapi...            9606   \n",
       "\n",
       "  organism_name  library_name library_strategy  ... age   bmi      donor id  \\\n",
       "0  Homo sapiens           NaN         ATAC-seq  ...  32  32.3  UNOS:AFC2208   \n",
       "1  Homo sapiens           NaN         ATAC-seq  ...  45  29.3  UNOS:AFEA331   \n",
       "2  Homo sapiens           NaN         ATAC-seq  ...  62  36.1  UNOS:AFEP022   \n",
       "3  Homo sapiens           NaN         ATAC-seq  ...  33  30.9     nPOD:6004   \n",
       "4  Homo sapiens           NaN         ATAC-seq  ...  33  30.9     nPOD:6004   \n",
       "\n",
       "  ena_fastq_http  ena_fastq_http_1 ena_fastq_http_2 ena_fastq_ftp  \\\n",
       "0            NaN               NaN              NaN           NaN   \n",
       "1            NaN               NaN              NaN           NaN   \n",
       "2            NaN               NaN              NaN           NaN   \n",
       "3            NaN               NaN              NaN           NaN   \n",
       "4            NaN               NaN              NaN           NaN   \n",
       "\n",
       "  ena_fastq_ftp_1  ena_fastq_ftp_2     sample_id  \n",
       "0             NaN              NaN  UNOS_AFC2208  \n",
       "1             NaN              NaN  UNOS_AFEA331  \n",
       "2             NaN              NaN  UNOS_AFEP022  \n",
       "3             NaN              NaN     nPOD_6004  \n",
       "4             NaN              NaN     nPOD_6004  \n",
       "\n",
       "[5 rows x 55 columns]"
      ]
     },
     "execution_count": 98,
     "metadata": {},
     "output_type": "execute_result"
    }
   ],
   "source": [
    "# Add SRA accessions\n",
    "sra_df = pd.read_csv(sra_metadata, sep=\"\\t\")\n",
    "#sra_df[\"sample_id\"] = sra_df[\"experiment_title\"].str.split(\":\", expand=True)[1].str.split(\"snATAC\", expand=True)[0].str.strip()\n",
    "sra_df[\"sample_id\"] = sra_df[\"donor id\"].str.replace(\":\", \"_\")\n",
    "sra_df.head()"
   ]
  },
  {
   "cell_type": "code",
   "execution_count": 100,
   "metadata": {},
   "outputs": [],
   "source": [
    "df = sra_df[['tissue', 'sex', 'age', 'bmi', 'donor id']]"
   ]
  },
  {
   "cell_type": "code",
   "execution_count": 101,
   "metadata": {},
   "outputs": [],
   "source": [
    "# Rename donor id to donor_id\n",
    "df = df.rename(columns={'donor id': 'donor_id'})"
   ]
  },
  {
   "cell_type": "code",
   "execution_count": 102,
   "metadata": {},
   "outputs": [
    {
     "data": {
      "text/plain": [
       "5"
      ]
     },
     "execution_count": 102,
     "metadata": {},
     "output_type": "execute_result"
    }
   ],
   "source": [
    "# Get all the directories with fragment files in them\n",
    "processed_dir = \"/cellar/users/aklie/data/datasets/Chiou2021_islet_snATAC-seq/processed/chromap\"\n",
    "input_frag_paths = glob.glob(os.path.join(processed_dir, \"*\", \"aln.bed\"))\n",
    "len(input_frag_paths)"
   ]
  },
  {
   "cell_type": "code",
   "execution_count": 107,
   "metadata": {},
   "outputs": [
    {
     "name": "stderr",
     "output_type": "stream",
     "text": [
      "/cellar/users/aklie/opt/miniconda3/envs/get_data/lib/python3.7/site-packages/pandas/core/indexing.py:1732: SettingWithCopyWarning: \n",
      "A value is trying to be set on a copy of a slice from a DataFrame\n",
      "\n",
      "See the caveats in the documentation: https://pandas.pydata.org/pandas-docs/stable/user_guide/indexing.html#returning-a-view-versus-a-copy\n",
      "  self._setitem_single_block(indexer, value, name)\n"
     ]
    }
   ],
   "source": [
    "# Replace \":\" with \"_\" in donor_id\n",
    "df['donor_id'] = df['donor_id'].str.replace(\":\", \"_\")\n",
    "df['donor_id'].iloc[-2] = df['donor_id'].iloc[-1] + \"_CB\"\n",
    "df['donor_id'].iloc[-1] = df['donor_id'].iloc[-1] + \"_10x\""
   ]
  },
  {
   "cell_type": "code",
   "execution_count": 111,
   "metadata": {},
   "outputs": [
    {
     "data": {
      "text/plain": [
       "Index(['tissue', 'sex', 'age', 'bmi', 'donor_id', 'input_frag_path'], dtype='object')"
      ]
     },
     "execution_count": 111,
     "metadata": {},
     "output_type": "execute_result"
    }
   ],
   "source": [
    "df.columns"
   ]
  },
  {
   "cell_type": "code",
   "execution_count": 109,
   "metadata": {},
   "outputs": [
    {
     "data": {
      "text/plain": [
       "{'UNOS_AFEP022': '/cellar/users/aklie/data/datasets/Chiou2021_islet_snATAC-seq/processed/chromap/UNOS_AFEP022/aln.bed',\n",
       " 'UNOS_AFEA331': '/cellar/users/aklie/data/datasets/Chiou2021_islet_snATAC-seq/processed/chromap/UNOS_AFEA331/aln.bed',\n",
       " 'nPOD_6004_CB': '/cellar/users/aklie/data/datasets/Chiou2021_islet_snATAC-seq/processed/chromap/nPOD_6004_CB/aln.bed',\n",
       " 'UNOS_AFC2208': '/cellar/users/aklie/data/datasets/Chiou2021_islet_snATAC-seq/processed/chromap/UNOS_AFC2208/aln.bed',\n",
       " 'nPOD_6004_10x': '/cellar/users/aklie/data/datasets/Chiou2021_islet_snATAC-seq/processed/chromap/nPOD_6004_10x/aln.bed'}"
      ]
     },
     "execution_count": 109,
     "metadata": {},
     "output_type": "execute_result"
    }
   ],
   "source": [
    "# Get dict of sample_id to path\n",
    "sample_id_to_path = {}\n",
    "for input_frag_path in input_frag_paths:\n",
    "    sample_id = input_frag_path.split(\"/\")[-2]\n",
    "    sample_id_to_path[sample_id] = input_frag_path\n",
    "sample_id_to_path"
   ]
  },
  {
   "cell_type": "code",
   "execution_count": 110,
   "metadata": {},
   "outputs": [
    {
     "data": {
      "text/plain": [
       "0    /cellar/users/aklie/data/datasets/Chiou2021_is...\n",
       "1    /cellar/users/aklie/data/datasets/Chiou2021_is...\n",
       "2    /cellar/users/aklie/data/datasets/Chiou2021_is...\n",
       "3    /cellar/users/aklie/data/datasets/Chiou2021_is...\n",
       "4    /cellar/users/aklie/data/datasets/Chiou2021_is...\n",
       "Name: input_frag_path, dtype: object"
      ]
     },
     "execution_count": 110,
     "metadata": {},
     "output_type": "execute_result"
    }
   ],
   "source": [
    "# Add column\n",
    "df[\"input_frag_path\"] = df[\"donor_id\"].map(sample_id_to_path)\n",
    "df[\"input_frag_path\"].head()"
   ]
  },
  {
   "cell_type": "code",
   "execution_count": 112,
   "metadata": {},
   "outputs": [],
   "source": [
    "# Save the output\n",
    "df[[\"input_frag_path\", \"donor_id\", 'tissue', 'sex', 'age', 'bmi']].to_csv(os.path.join(outdir_path, \"snapatac2_process.tsv\"), sep=\"\\t\", index=False, header=False)"
   ]
  },
  {
   "cell_type": "code",
   "execution_count": 114,
   "metadata": {},
   "outputs": [],
   "source": [
    "# Save the output\n",
    "df[[\"donor_id\", 'tissue', 'sex', 'age', 'bmi']].to_csv(os.path.join(outdir_path, \"sample_metadata.tsv\"), sep=\"\\t\", index=False)"
   ]
  },
  {
   "attachments": {},
   "cell_type": "markdown",
   "metadata": {},
   "source": [
    "# DONE!"
   ]
  },
  {
   "attachments": {},
   "cell_type": "markdown",
   "metadata": {},
   "source": [
    "---"
   ]
  }
 ],
 "metadata": {
  "kernelspec": {
   "display_name": "Python 3.7 get_data",
   "language": "python",
   "name": "get_data"
  },
  "language_info": {
   "codemirror_mode": {
    "name": "ipython",
    "version": 3
   },
   "file_extension": ".py",
   "mimetype": "text/x-python",
   "name": "python",
   "nbconvert_exporter": "python",
   "pygments_lexer": "ipython3",
   "version": "3.7.12"
  },
  "orig_nbformat": 4
 },
 "nbformat": 4,
 "nbformat_minor": 2
}
