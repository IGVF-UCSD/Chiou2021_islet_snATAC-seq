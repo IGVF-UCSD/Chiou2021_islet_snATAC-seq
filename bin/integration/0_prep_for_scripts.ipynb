{
 "cells": [
  {
   "attachments": {},
   "cell_type": "markdown",
   "metadata": {},
   "source": [
    "# Prep for integration script"
   ]
  },
  {
   "cell_type": "code",
   "execution_count": 1,
   "metadata": {},
   "outputs": [
    {
     "name": "stdout",
     "output_type": "stream",
     "text": [
      "The history saving thread hit an unexpected error (DatabaseError('database disk image is malformed')).History will not be written to the database.\n"
     ]
    }
   ],
   "source": [
    "# Imports\n",
    "import os\n",
    "import glob\n",
    "import pickle\n",
    "import pandas as pd"
   ]
  },
  {
   "cell_type": "code",
   "execution_count": 4,
   "metadata": {},
   "outputs": [],
   "source": [
    "# Set paths\n",
    "sample_metadata_path = \"/cellar/users/aklie/data/datasets/Chiou2021_islet_snATAC-seq/metadata/sample_metadata.tsv\"\n",
    "outdir_path = \"/cellar/users/aklie/data/datasets/Chiou2021_islet_snATAC-seq/metadata/2024_06_03\"\n",
    "\n",
    "# make output directory\n",
    "os.makedirs(outdir_path, exist_ok=True)"
   ]
  },
  {
   "cell_type": "markdown",
   "metadata": {},
   "source": [
    "# Metadata"
   ]
  },
  {
   "cell_type": "code",
   "execution_count": 5,
   "metadata": {},
   "outputs": [
    {
     "data": {
      "text/html": [
       "<div>\n",
       "<style scoped>\n",
       "    .dataframe tbody tr th:only-of-type {\n",
       "        vertical-align: middle;\n",
       "    }\n",
       "\n",
       "    .dataframe tbody tr th {\n",
       "        vertical-align: top;\n",
       "    }\n",
       "\n",
       "    .dataframe thead th {\n",
       "        text-align: right;\n",
       "    }\n",
       "</style>\n",
       "<table border=\"1\" class=\"dataframe\">\n",
       "  <thead>\n",
       "    <tr style=\"text-align: right;\">\n",
       "      <th></th>\n",
       "      <th>donor_id</th>\n",
       "      <th>tissue</th>\n",
       "      <th>sex</th>\n",
       "      <th>age</th>\n",
       "      <th>bmi</th>\n",
       "    </tr>\n",
       "  </thead>\n",
       "  <tbody>\n",
       "    <tr>\n",
       "      <th>0</th>\n",
       "      <td>UNOS_AFC2208</td>\n",
       "      <td>pancreatic islets</td>\n",
       "      <td>male</td>\n",
       "      <td>32</td>\n",
       "      <td>32.3</td>\n",
       "    </tr>\n",
       "    <tr>\n",
       "      <th>1</th>\n",
       "      <td>UNOS_AFEA331</td>\n",
       "      <td>pancreatic islets</td>\n",
       "      <td>male</td>\n",
       "      <td>45</td>\n",
       "      <td>29.3</td>\n",
       "    </tr>\n",
       "    <tr>\n",
       "      <th>2</th>\n",
       "      <td>UNOS_AFEP022</td>\n",
       "      <td>pancreatic islets</td>\n",
       "      <td>male</td>\n",
       "      <td>62</td>\n",
       "      <td>36.1</td>\n",
       "    </tr>\n",
       "    <tr>\n",
       "      <th>3</th>\n",
       "      <td>nPOD_6004_CB</td>\n",
       "      <td>whole pancreas</td>\n",
       "      <td>male</td>\n",
       "      <td>33</td>\n",
       "      <td>30.9</td>\n",
       "    </tr>\n",
       "    <tr>\n",
       "      <th>4</th>\n",
       "      <td>nPOD_6004_10x</td>\n",
       "      <td>whole pancreas</td>\n",
       "      <td>male</td>\n",
       "      <td>33</td>\n",
       "      <td>30.9</td>\n",
       "    </tr>\n",
       "  </tbody>\n",
       "</table>\n",
       "</div>"
      ],
      "text/plain": [
       "        donor_id             tissue   sex  age   bmi\n",
       "0   UNOS_AFC2208  pancreatic islets  male   32  32.3\n",
       "1   UNOS_AFEA331  pancreatic islets  male   45  29.3\n",
       "2   UNOS_AFEP022  pancreatic islets  male   62  36.1\n",
       "3   nPOD_6004_CB     whole pancreas  male   33  30.9\n",
       "4  nPOD_6004_10x     whole pancreas  male   33  30.9"
      ]
     },
     "execution_count": 5,
     "metadata": {},
     "output_type": "execute_result"
    }
   ],
   "source": [
    "df = pd.read_csv(sample_metadata_path, sep=\"\\t\")\n",
    "df.head()"
   ]
  },
  {
   "cell_type": "code",
   "execution_count": 7,
   "metadata": {},
   "outputs": [
    {
     "data": {
      "text/html": [
       "<div>\n",
       "<style scoped>\n",
       "    .dataframe tbody tr th:only-of-type {\n",
       "        vertical-align: middle;\n",
       "    }\n",
       "\n",
       "    .dataframe tbody tr th {\n",
       "        vertical-align: top;\n",
       "    }\n",
       "\n",
       "    .dataframe thead th {\n",
       "        text-align: right;\n",
       "    }\n",
       "</style>\n",
       "<table border=\"1\" class=\"dataframe\">\n",
       "  <thead>\n",
       "    <tr style=\"text-align: right;\">\n",
       "      <th></th>\n",
       "      <th>donor_id</th>\n",
       "      <th>tissue</th>\n",
       "      <th>sex</th>\n",
       "      <th>age</th>\n",
       "      <th>bmi</th>\n",
       "    </tr>\n",
       "  </thead>\n",
       "  <tbody>\n",
       "    <tr>\n",
       "      <th>0</th>\n",
       "      <td>UNOS_AFC2208</td>\n",
       "      <td>pancreatic islets</td>\n",
       "      <td>male</td>\n",
       "      <td>32</td>\n",
       "      <td>32.3</td>\n",
       "    </tr>\n",
       "    <tr>\n",
       "      <th>1</th>\n",
       "      <td>UNOS_AFEA331</td>\n",
       "      <td>pancreatic islets</td>\n",
       "      <td>male</td>\n",
       "      <td>45</td>\n",
       "      <td>29.3</td>\n",
       "    </tr>\n",
       "    <tr>\n",
       "      <th>2</th>\n",
       "      <td>UNOS_AFEP022</td>\n",
       "      <td>pancreatic islets</td>\n",
       "      <td>male</td>\n",
       "      <td>62</td>\n",
       "      <td>36.1</td>\n",
       "    </tr>\n",
       "  </tbody>\n",
       "</table>\n",
       "</div>"
      ],
      "text/plain": [
       "       donor_id             tissue   sex  age   bmi\n",
       "0  UNOS_AFC2208  pancreatic islets  male   32  32.3\n",
       "1  UNOS_AFEA331  pancreatic islets  male   45  29.3\n",
       "2  UNOS_AFEP022  pancreatic islets  male   62  36.1"
      ]
     },
     "execution_count": 7,
     "metadata": {},
     "output_type": "execute_result"
    }
   ],
   "source": [
    "# Only keep tissue of type \"pancreatic islets\"\n",
    "df = df[df[\"tissue\"] == \"pancreatic islets\"]\n",
    "df"
   ]
  },
  {
   "attachments": {},
   "cell_type": "markdown",
   "metadata": {},
   "source": [
    "# For integrating with SnapATAC2"
   ]
  },
  {
   "cell_type": "code",
   "execution_count": 8,
   "metadata": {},
   "outputs": [
    {
     "data": {
      "text/plain": [
       "5"
      ]
     },
     "execution_count": 8,
     "metadata": {},
     "output_type": "execute_result"
    }
   ],
   "source": [
    "# Get all the directories with h5adment files in them\n",
    "sample_dir = \"/cellar/users/aklie/data/datasets/Chiou2021_islet_snATAC-seq/results/sample_annotation\"\n",
    "input_h5ad_paths = glob.glob(os.path.join(sample_dir, \"*/atac/snapatac2/clustered.h5ad\"))\n",
    "len(input_h5ad_paths)"
   ]
  },
  {
   "cell_type": "code",
   "execution_count": 100,
   "metadata": {},
   "outputs": [],
   "source": [
    "df = sra_df[['tissue', 'sex', 'age', 'bmi', 'donor id']]"
   ]
  },
  {
   "cell_type": "code",
   "execution_count": 10,
   "metadata": {},
   "outputs": [
    {
     "data": {
      "text/plain": [
       "{'nPOD_6004_CB': '/cellar/users/aklie/data/datasets/Chiou2021_islet_snATAC-seq/results/sample_annotation/nPOD_6004_CB/atac/snapatac2/clustered.h5ad',\n",
       " 'UNOS_AFEA331': '/cellar/users/aklie/data/datasets/Chiou2021_islet_snATAC-seq/results/sample_annotation/UNOS_AFEA331/atac/snapatac2/clustered.h5ad',\n",
       " 'UNOS_AFEP022': '/cellar/users/aklie/data/datasets/Chiou2021_islet_snATAC-seq/results/sample_annotation/UNOS_AFEP022/atac/snapatac2/clustered.h5ad',\n",
       " 'nPOD_6004_10x': '/cellar/users/aklie/data/datasets/Chiou2021_islet_snATAC-seq/results/sample_annotation/nPOD_6004_10x/atac/snapatac2/clustered.h5ad',\n",
       " 'UNOS_AFC2208': '/cellar/users/aklie/data/datasets/Chiou2021_islet_snATAC-seq/results/sample_annotation/UNOS_AFC2208/atac/snapatac2/clustered.h5ad'}"
      ]
     },
     "execution_count": 10,
     "metadata": {},
     "output_type": "execute_result"
    }
   ],
   "source": [
    "# Get dict of sample_id to path\n",
    "sample_id_to_h5ad_path = {}\n",
    "for input_h5ad_path in input_h5ad_paths:\n",
    "    sample_id = input_h5ad_path.split(\"/\")[-4]\n",
    "    sample_id_to_h5ad_path[sample_id] = input_h5ad_path\n",
    "sample_id_to_h5ad_path"
   ]
  },
  {
   "cell_type": "code",
   "execution_count": 11,
   "metadata": {},
   "outputs": [
    {
     "name": "stderr",
     "output_type": "stream",
     "text": [
      "/cellar/users/aklie/opt/miniconda3/envs/get_data/lib/python3.7/site-packages/ipykernel_launcher.py:2: SettingWithCopyWarning: \n",
      "A value is trying to be set on a copy of a slice from a DataFrame.\n",
      "Try using .loc[row_indexer,col_indexer] = value instead\n",
      "\n",
      "See the caveats in the documentation: https://pandas.pydata.org/pandas-docs/stable/user_guide/indexing.html#returning-a-view-versus-a-copy\n",
      "  \n"
     ]
    },
    {
     "data": {
      "text/plain": [
       "0    /cellar/users/aklie/data/datasets/Chiou2021_is...\n",
       "1    /cellar/users/aklie/data/datasets/Chiou2021_is...\n",
       "2    /cellar/users/aklie/data/datasets/Chiou2021_is...\n",
       "Name: input_h5ad_path, dtype: object"
      ]
     },
     "execution_count": 11,
     "metadata": {},
     "output_type": "execute_result"
    }
   ],
   "source": [
    "# Add column\n",
    "df[\"input_h5ad_path\"] = df[\"donor_id\"].map(sample_id_to_h5ad_path)\n",
    "df[\"input_h5ad_path\"].head()"
   ]
  },
  {
   "cell_type": "code",
   "execution_count": 12,
   "metadata": {},
   "outputs": [],
   "source": [
    "# Save the output\n",
    "df[[\"input_h5ad_path\", \"donor_id\", 'tissue', 'sex', 'age', 'bmi']].to_csv(os.path.join(outdir_path, \"snapatac2_integrate.tsv\"), sep=\"\\t\", index=False, header=False)"
   ]
  },
  {
   "attachments": {},
   "cell_type": "markdown",
   "metadata": {},
   "source": [
    "# DONE!"
   ]
  },
  {
   "attachments": {},
   "cell_type": "markdown",
   "metadata": {},
   "source": [
    "---"
   ]
  }
 ],
 "metadata": {
  "kernelspec": {
   "display_name": "Python 3.7 get_data",
   "language": "python",
   "name": "get_data"
  },
  "orig_nbformat": 4
 },
 "nbformat": 4,
 "nbformat_minor": 2
}
