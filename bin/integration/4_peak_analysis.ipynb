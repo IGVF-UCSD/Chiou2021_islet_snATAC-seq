{
 "cells": [
  {
   "cell_type": "code",
   "execution_count": 19,
   "metadata": {},
   "outputs": [],
   "source": [
    "import sys\n",
    "import os\n",
    "import numpy as np\n",
    "import pyranges as pr\n",
    "import pandas as pd\n",
    "import snapatac2 as snap\n",
    "import polars as pl\n",
    "\n",
    "import seaborn as sns\n",
    "import matplotlib.pyplot as plt"
   ]
  },
  {
   "cell_type": "code",
   "execution_count": 2,
   "metadata": {},
   "outputs": [],
   "source": [
    "def filter_peaks(\n",
    "    peaks: pr.PyRanges,\n",
    "    blacklist: pr.PyRanges,\n",
    "    score_col: str = \"Score\",\n",
    "    n_peaks: int = None,\n",
    "    min_q_value: float = None,\n",
    ") -> pr.PyRanges:\n",
    "    \"\"\"Filter peaks based on blacklist regions.\n",
    "\n",
    "    Performs the following operations:\n",
    "    1. Remove blacklist regions using PyRanges.overlap(invert=True)\n",
    "    2. Keep only chr1-22, X, Y\n",
    "    3. Remove duplicates based on Chromosome, Start, End, keeping row with the highest score_col value\n",
    "\n",
    "    Parameters\n",
    "    ----------\n",
    "    peaks : pr.PyRanges\n",
    "        Peaks to filter as a PyRanges object.\n",
    "    blacklist : pr.PyRanges\n",
    "        Blacklist regions as a PyRanges object.\n",
    "    \n",
    "    Returns\n",
    "    -------\n",
    "    pr.PyRanges\n",
    "        Filtered peaks as a PyRanges object.\n",
    "    \"\"\"\n",
    "    # Remove blacklist regions\n",
    "    peaks = peaks.overlap(blacklist, invert=True)\n",
    "\n",
    "    # Keep only chr1-22, X, Y\n",
    "    peaks = peaks[peaks.Chromosome.str.match(\"chr[1-9]|chr1[0-9]|chr2[0-2]|chrX|chrY\")]\n",
    "\n",
    "    # Remove duplicates based on Chromosome, Start, End, keeping row with the highest score_col value\n",
    "    peaks_df = peaks.df.sort_values(score_col, ascending=False).drop_duplicates([\"Chromosome\", \"Start\", \"End\"])\n",
    "\n",
    "    # Remove peaks with q_value > min_q_value. Need to convert min_q_value to 10^-min_q_value\n",
    "    if min_q_value is not None:\n",
    "        min_q_value = 10 ** -min_q_value\n",
    "        peaks_df = peaks_df[peaks_df[\"q_value\"] >= min_q_value]\n",
    "    \n",
    "    # Take top n_peaks peaks if specified\n",
    "    if n_peaks is not None:\n",
    "        peaks_df = peaks_df.head(n_peaks)\n",
    "\n",
    "\n",
    "    # Convert back to pyranges\n",
    "    peaks = pr.PyRanges(peaks_df)\n",
    "\n",
    "    return peaks"
   ]
  },
  {
   "cell_type": "code",
   "execution_count": 30,
   "metadata": {},
   "outputs": [],
   "source": [
    "peaks_path = \"/cellar/users/aklie/data/datasets/Chiou2021_islet_snATAC-seq/results/integration/atac/peak_matrices/peak_mat.h5ad\"\n",
    "h5ads_path = \"/cellar/users/aklie/data/datasets/Chiou2021_islet_snATAC-seq/results/integration/atac/annotated.h5ads/_dataset.h5ads\"\n",
    "outdir_path = \"/cellar/users/aklie/data/datasets/Chiou2021_islet_snATAC-seq/results/integration/atac/filtered_peaks\"\n",
    "cellid_colors_path = \"/cellar/users/aklie/data/datasets/Chiou2021_islet_snATAC-seq/ref/cellid_colors.csv\""
   ]
  },
  {
   "cell_type": "code",
   "execution_count": 31,
   "metadata": {},
   "outputs": [
    {
     "data": {
      "text/plain": [
       "{'beta_1': '#0d8101',\n",
       " 'beta_2': '#00ff00',\n",
       " 'alpha_1': '#8b1200',\n",
       " 'alpha_2': '#ff0000',\n",
       " 'delta_1': '#fd8e02',\n",
       " 'delta_2': '#ff7f00',\n",
       " 'gamma': '#800780',\n",
       " 'epsilon': '#b360cf',\n",
       " 'ductal': '#a7a7a7',\n",
       " 'acinar': '#010101',\n",
       " 'stellate': '#88ccea',\n",
       " 'activated_stellate': '#4a91c7',\n",
       " 'quescient_stellate': '#c0e4f3',\n",
       " 'endothelial': '#5077e0',\n",
       " 'schwann': '#f4ca16',\n",
       " 'mast': '#ff6347',\n",
       " 'immune': '#0700ff',\n",
       " 'other': '#ff00ff'}"
      ]
     },
     "execution_count": 31,
     "metadata": {},
     "output_type": "execute_result"
    }
   ],
   "source": [
    "# Load cell id colors\n",
    "cellid_colors = pd.read_csv(cellid_colors_path, index_col=0, header=None)\n",
    "cellid_colors = cellid_colors.to_dict()[1]\n",
    "cellid_colors"
   ]
  },
  {
   "cell_type": "code",
   "execution_count": 3,
   "metadata": {},
   "outputs": [
    {
     "data": {
      "text/html": [
       "<div>\n",
       "<style scoped>\n",
       "    .dataframe tbody tr th:only-of-type {\n",
       "        vertical-align: middle;\n",
       "    }\n",
       "\n",
       "    .dataframe tbody tr th {\n",
       "        vertical-align: top;\n",
       "    }\n",
       "\n",
       "    .dataframe thead th {\n",
       "        text-align: right;\n",
       "    }\n",
       "</style>\n",
       "<table border=\"1\" class=\"dataframe\">\n",
       "  <thead>\n",
       "    <tr style=\"text-align: right;\">\n",
       "      <th></th>\n",
       "      <th>Chromosome</th>\n",
       "      <th>Start</th>\n",
       "      <th>End</th>\n",
       "    </tr>\n",
       "  </thead>\n",
       "  <tbody>\n",
       "    <tr>\n",
       "      <th>0</th>\n",
       "      <td>chr1</td>\n",
       "      <td>628903</td>\n",
       "      <td>635104</td>\n",
       "    </tr>\n",
       "    <tr>\n",
       "      <th>1</th>\n",
       "      <td>chr1</td>\n",
       "      <td>5850087</td>\n",
       "      <td>5850571</td>\n",
       "    </tr>\n",
       "    <tr>\n",
       "      <th>2</th>\n",
       "      <td>chr1</td>\n",
       "      <td>8909610</td>\n",
       "      <td>8910014</td>\n",
       "    </tr>\n",
       "    <tr>\n",
       "      <th>3</th>\n",
       "      <td>chr1</td>\n",
       "      <td>9574580</td>\n",
       "      <td>9574997</td>\n",
       "    </tr>\n",
       "    <tr>\n",
       "      <th>4</th>\n",
       "      <td>chr1</td>\n",
       "      <td>32043823</td>\n",
       "      <td>32044203</td>\n",
       "    </tr>\n",
       "    <tr>\n",
       "      <th>...</th>\n",
       "      <td>...</td>\n",
       "      <td>...</td>\n",
       "      <td>...</td>\n",
       "    </tr>\n",
       "    <tr>\n",
       "      <th>905</th>\n",
       "      <td>chrY</td>\n",
       "      <td>11290797</td>\n",
       "      <td>11334278</td>\n",
       "    </tr>\n",
       "    <tr>\n",
       "      <th>906</th>\n",
       "      <td>chrY</td>\n",
       "      <td>11493053</td>\n",
       "      <td>11592850</td>\n",
       "    </tr>\n",
       "    <tr>\n",
       "      <th>907</th>\n",
       "      <td>chrY</td>\n",
       "      <td>11671014</td>\n",
       "      <td>11671046</td>\n",
       "    </tr>\n",
       "    <tr>\n",
       "      <th>908</th>\n",
       "      <td>chrY</td>\n",
       "      <td>11721528</td>\n",
       "      <td>11749472</td>\n",
       "    </tr>\n",
       "    <tr>\n",
       "      <th>909</th>\n",
       "      <td>chrY</td>\n",
       "      <td>56694632</td>\n",
       "      <td>56889743</td>\n",
       "    </tr>\n",
       "  </tbody>\n",
       "</table>\n",
       "<p>910 rows × 3 columns</p>\n",
       "</div>"
      ],
      "text/plain": [
       "+--------------+-----------+-----------+\n",
       "| Chromosome   | Start     | End       |\n",
       "| (category)   | (int64)   | (int64)   |\n",
       "|--------------+-----------+-----------|\n",
       "| chr1         | 628903    | 635104    |\n",
       "| chr1         | 5850087   | 5850571   |\n",
       "| chr1         | 8909610   | 8910014   |\n",
       "| chr1         | 9574580   | 9574997   |\n",
       "| ...          | ...       | ...       |\n",
       "| chrY         | 11493053  | 11592850  |\n",
       "| chrY         | 11671014  | 11671046  |\n",
       "| chrY         | 11721528  | 11749472  |\n",
       "| chrY         | 56694632  | 56889743  |\n",
       "+--------------+-----------+-----------+\n",
       "Unstranded PyRanges object has 910 rows and 3 columns from 24 chromosomes.\n",
       "For printing, the PyRanges was sorted on Chromosome."
      ]
     },
     "execution_count": 3,
     "metadata": {},
     "output_type": "execute_result"
    }
   ],
   "source": [
    "# Path to blacklist\n",
    "blacklist_path = \"/cellar/users/aklie/data/ref/genomes/hg38/blacklist/blacklist.bed.gz\"\n",
    "blacklist = pr.read_bed(blacklist_path)\n",
    "blacklist"
   ]
  },
  {
   "cell_type": "code",
   "execution_count": 12,
   "metadata": {},
   "outputs": [
    {
     "data": {
      "text/plain": [
       "AnnData object with n_obs × n_vars = 12806 × 606219\n",
       "    obs: 'sample', 'log_n_fragment', 'tsse', 'leiden_1', 'annotation'\n",
       "    var: 'count', 'selected'\n",
       "    uns: 'macs3', 'AnnDataSet', 'spectral_eigenvalue', 'reference_sequences'\n",
       "    obsm: 'X_umap', 'X_spectral'\n",
       "    obsp: 'distances'"
      ]
     },
     "execution_count": 12,
     "metadata": {},
     "output_type": "execute_result"
    }
   ],
   "source": [
    "# Read in h5ad file\n",
    "adataset = snap.read_dataset(h5ads_path)\n",
    "adata = adataset.to_adata()\n",
    "adataset.close()\n",
    "adata"
   ]
  },
  {
   "cell_type": "code",
   "execution_count": 13,
   "metadata": {},
   "outputs": [
    {
     "data": {
      "text/plain": [
       "AnnData object with n_obs × n_vars = 12806 × 492079\n",
       "    obs: 'sample', 'log_n_fragment', 'tsse', 'leiden_1', 'annotation'"
      ]
     },
     "execution_count": 13,
     "metadata": {},
     "output_type": "execute_result"
    }
   ],
   "source": [
    "# Load peak data\n",
    "adata_peaks = snap.read(peaks_path, backed=None)\n",
    "adata_peaks"
   ]
  },
  {
   "cell_type": "code",
   "execution_count": 18,
   "metadata": {},
   "outputs": [],
   "source": [
    "# Params\n",
    "min_q_value = [None]\n",
    "n_peaks = [None, 150_000]\n",
    "     \n",
    "\n",
    "# make filter dir\n",
    "os.makedirs(outdir_path, exist_ok=True)"
   ]
  },
  {
   "cell_type": "code",
   "execution_count": 15,
   "metadata": {},
   "outputs": [],
   "source": [
    "# Get peaks\n",
    "peaksets = adata.uns[\"macs3\"].copy()\n",
    "\n",
    "# Rename chrom:Chromosome, start:Start, end:End\n",
    "for k, v in peaksets.items():\n",
    "    v = v.to_pandas()\n",
    "    peaksets[k] = v.rename(columns={\"chrom\": \"Chromosome\", \"start\": \"Start\", \"end\": \"End\"})"
   ]
  },
  {
   "cell_type": "code",
   "execution_count": 20,
   "metadata": {},
   "outputs": [],
   "source": [
    "# For each filtering parameter\n",
    "for q_val in min_q_value:\n",
    "    for n_peak in n_peaks:\n",
    "        \n",
    "        # Convert each df in the dict to a PyRanges object\n",
    "        peaksets_pr = {k: pr.PyRanges(v) for k, v in peaksets.items()}\n",
    "\n",
    "        # Filter peaks\n",
    "        for k, v in peaksets_pr.items():\n",
    "            peaksets_pr[k] = filter_peaks(v, blacklist, score_col=\"q_value\", n_peaks=n_peak, min_q_value=q_val)\n",
    "\n",
    "        # Save filtered peaks\n",
    "        for k, v in peaksets_pr.items():\n",
    "            filename = f\"{k}.filt\"\n",
    "            if q_val is not None:\n",
    "                filename += f\".q{q_val}\"\n",
    "            if n_peak is not None:\n",
    "                filename += f\".n{n_peak}\"\n",
    "            filename += \".narrowPeak\"\n",
    "            v.to_bed(os.path.join(outdir_path, filename))\n",
    "\n",
    "        # Rename back from chrom:Chromosome, start:Start, end:End and turn into polars dataframes\n",
    "        peaksets_pl = {}\n",
    "        for k, v in peaksets_pr.items():\n",
    "            v = v.df.rename(columns={\"Chromosome\": \"chrom\", \"Start\": \"start\", \"End\": \"end\"})\n",
    "            v[\"chrom\"] = v[\"chrom\"].astype(str)\n",
    "            v[\"start\"] = v[\"start\"].astype(np.uint64)\n",
    "            v[\"end\"] = v[\"end\"].astype(np.uint64)\n",
    "            peaksets_pl[k] = pl.DataFrame(v)\n",
    "\n",
    "        # Merge peaks\n",
    "        filtered_consensus = snap.tl.merge_peaks(\n",
    "            peaks=peaksets_pl,\n",
    "            chrom_sizes=snap.genome.hg38\n",
    "        )\n",
    "    \n",
    "        # Clean up \n",
    "        filtered_consensus_df = filtered_consensus.to_pandas().set_index(\"Peaks\")\n",
    "        filtered_consensus_df[\"exists_in\"] = filtered_consensus_df.apply(\n",
    "            lambda x: \", \".join([k for k, v in x.items() if v]), axis=1\n",
    "        )\n",
    "        filtered_consensus_df[\"chrom\"] = filtered_consensus_df.index.str.split(\":\").str[0]\n",
    "        filtered_consensus_df[\"start\"] = filtered_consensus_df.index.str.split(\":\").str[1].str.split(\"-\").str[0].astype(np.uint64)\n",
    "        filtered_consensus_df[\"end\"] = filtered_consensus_df.index.str.split(\":\").str[1].str.split(\"-\").str[1].astype(np.uint64)\n",
    "\n",
    "        # Save\n",
    "        filename = \"consensus.filt\"\n",
    "        if q_val is not None:\n",
    "            filename += f\".q{q_val}\"\n",
    "        if n_peak is not None:\n",
    "            filename += f\".n{n_peak}\"\n",
    "        filename += \".bed\"\n",
    "        filtered_consensus_df[['chrom', 'start', 'end', 'exists_in']].to_csv(os.path.join(outdir_path, filename), sep=\"\\t\", header=False, index=False)"
   ]
  },
  {
   "cell_type": "markdown",
   "metadata": {},
   "source": [
    "# Get total counts per cell type"
   ]
  },
  {
   "cell_type": "code",
   "execution_count": 25,
   "metadata": {},
   "outputs": [
    {
     "data": {
      "text/plain": [
       "AnnData object with n_obs × n_vars = 12806 × 492079\n",
       "    obs: 'sample', 'log_n_fragment', 'tsse', 'leiden_1', 'annotation'"
      ]
     },
     "execution_count": 25,
     "metadata": {},
     "output_type": "execute_result"
    }
   ],
   "source": [
    "adata_peaks"
   ]
  },
  {
   "cell_type": "code",
   "execution_count": 37,
   "metadata": {},
   "outputs": [],
   "source": [
    "# For each celltype in \"annotation\" count up counts in .X\n",
    "celltype_counts = {}\n",
    "for celltype in adata.obs[\"annotation\"].unique():\n",
    "    celltype_counts[celltype] = adata[adata.obs[\"annotation\"] == celltype].X.sum()"
   ]
  },
  {
   "cell_type": "code",
   "execution_count": 39,
   "metadata": {},
   "outputs": [
    {
     "data": {
      "text/plain": [
       "{'alpha_2': 7025782,\n",
       " 'beta_2': 23741854,\n",
       " 'immune': 391536,\n",
       " 'alpha_1': 38599700,\n",
       " 'beta_1': 32934848,\n",
       " 'delta_2': 1445506,\n",
       " 'delta_1': 2673264,\n",
       " 'ductal': 380174,\n",
       " 'acinar': 235864,\n",
       " 'stellate': 1078004,\n",
       " 'gamma': 1596154,\n",
       " 'endothelial': 540850}"
      ]
     },
     "execution_count": 39,
     "metadata": {},
     "output_type": "execute_result"
    }
   ],
   "source": [
    "celltype_counts"
   ]
  },
  {
   "cell_type": "code",
   "execution_count": 45,
   "metadata": {},
   "outputs": [
    {
     "name": "stderr",
     "output_type": "stream",
     "text": [
      "/tmp/ipykernel_819219/978696219.py:5: FutureWarning: \n",
      "\n",
      "Passing `palette` without assigning `hue` is deprecated and will be removed in v0.14.0. Assign the `y` variable to `hue` and set `legend=False` for the same effect.\n",
      "\n",
      "  sns.barplot(x=\"counts\", y=counts_df.index, data=counts_df, palette=cellid_colors)\n"
     ]
    },
    {
     "data": {
      "image/png": "[encoded data removed]",
      "text/plain": [
       "<Figure size 500x1000 with 1 Axes>"
      ]
     },
     "metadata": {},
     "output_type": "display_data"
    }
   ],
   "source": [
    "# Plot as a nice horizontal barplot, order from highest to lowest and match up with cellid_colors\n",
    "with sns.plotting_context(\"notebook\", font_scale=1.5):\n",
    "    fig, ax = plt.subplots(figsize=(5, 10))\n",
    "    counts_df = pd.DataFrame(celltype_counts, index=[\"counts\"]).T.sort_values(\"counts\", ascending=False)\n",
    "    sns.barplot(x=\"counts\", y=counts_df.index, data=counts_df, palette=cellid_colors)\n",
    "    ax.set_xlabel(\"Counts\")\n",
    "    ax.set_ylabel(\"Celltype\")\n",
    "    ax.set_title(\"Counts per celltype\")\n",
    "    ax.axvline(5_500_000, color=\"red\", linestyle=\"--\")\n",
    "    plt.show()"
   ]
  },
  {
   "cell_type": "markdown",
   "metadata": {},
   "source": [
    "# DONE!"
   ]
  },
  {
   "cell_type": "markdown",
   "metadata": {},
   "source": [
    "---"
   ]
  }
 ],
 "metadata": {
  "kernelspec": {
   "display_name": "Python 3.9 scverse-lite",
   "language": "python",
   "name": "scverse-lite-py39"
  }
 },
 "nbformat": 4,
 "nbformat_minor": 2
}
