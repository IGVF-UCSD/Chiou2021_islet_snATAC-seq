{
 "cells": [
  {
   "attachments": {},
   "cell_type": "markdown",
   "metadata": {},
   "source": [
    "# Set-up"
   ]
  },
  {
   "cell_type": "code",
   "execution_count": 1,
   "metadata": {},
   "outputs": [
    {
     "name": "stdout",
     "output_type": "stream",
     "text": [
      "The history saving thread hit an unexpected error (DatabaseError('database disk image is malformed')).History will not be written to the database.\n"
     ]
    },
    {
     "name": "stderr",
     "output_type": "stream",
     "text": [
      "/cellar/users/aklie/opt/miniconda3/envs/get_data/lib/python3.7/site-packages/ipykernel_launcher.py:2: TqdmWarning: IProgress not found. Please update jupyter and ipywidgets. See https://ipywidgets.readthedocs.io/en/stable/user_install.html\n",
      "  \n"
     ]
    }
   ],
   "source": [
    "import os\n",
    "from tqdm.autonotebook import tqdm\n",
    "from pysradb.sraweb import SRAweb"
   ]
  },
  {
   "cell_type": "code",
   "execution_count": 2,
   "metadata": {},
   "outputs": [],
   "source": [
    "# Choose the current dataset we are working with\n",
    "dataset_name = \"Chiou2021_islet_snATAC-seq\"\n",
    "srp_id = \"SRP290255\""
   ]
  },
  {
   "cell_type": "code",
   "execution_count": 15,
   "metadata": {},
   "outputs": [
    {
     "data": {
      "text/plain": [
       "('/cellar/users/aklie/data/datasets/Chiou2021_islet_snATAC-seq',\n",
       " '/cellar/users/aklie/data/datasets/Chiou2021_islet_snATAC-seq/bin/data_acquisition',\n",
       " '/cellar/users/aklie/data/datasets/Chiou2021_islet_snATAC-seq/fastq')"
      ]
     },
     "execution_count": 15,
     "metadata": {},
     "output_type": "execute_result"
    }
   ],
   "source": [
    "# Set-up directories\n",
    "base_dir = \"/cellar/users/aklie/data/datasets/Chiou2021_islet_snATAC-seq\"\n",
    "cwd = \"/cellar/users/aklie/data/datasets/Chiou2021_islet_snATAC-seq/bin/data_acquisition\"\n",
    "fastq_dir = os.path.join(base_dir, \"fastq\")\n",
    "os.chdir(cwd)\n",
    "base_dir, cwd, fastq_dir"
   ]
  },
  {
   "cell_type": "code",
   "execution_count": 4,
   "metadata": {},
   "outputs": [],
   "source": [
    "# Connect to SRA\n",
    "db = SRAweb()"
   ]
  },
  {
   "attachments": {},
   "cell_type": "markdown",
   "metadata": {},
   "source": [
    "# Get metadata"
   ]
  },
  {
   "cell_type": "code",
   "execution_count": 5,
   "metadata": {},
   "outputs": [],
   "source": [
    "# Grab the metadata for the SRP\n",
    "metadata = db.sra_metadata(srp_id, detailed=True)"
   ]
  },
  {
   "cell_type": "code",
   "execution_count": 11,
   "metadata": {},
   "outputs": [],
   "source": [
    "# Save the metadata and the list of srr ids\n",
    "metadata.to_csv(f\"{srp_id}_metadata.tsv\", index=False, sep=\"\\t\")\n",
    "metadata[\"run_accession\"].to_csv(f\"{srp_id}_srr_ids.txt\", index=False, header=False)"
   ]
  },
  {
   "attachments": {},
   "cell_type": "markdown",
   "metadata": {},
   "source": [
    "# Download (`sra` files)"
   ]
  },
  {
   "cell_type": "code",
   "execution_count": 12,
   "metadata": {},
   "outputs": [
    {
     "name": "stdout",
     "output_type": "stream",
     "text": [
      "Checking download URLs\n",
      "The following files will be downloaded: \n",
      "\n",
      "run_accession study_accession experiment_accession public_url                                                                                                  download_url                                                                                            out_dir                                                                                 filesize\n",
      "SRR12957013   SRP290255       SRX9409841           https://sra-downloadb.be-md.ncbi.nlm.nih.gov/sos3/sra-pub-zq-24/SRR012/12957/SRR12957013/SRR12957013.lite.1 ftp://ftp-trace.ncbi.nlm.nih.gov/sra/sra-instant/reads/ByRun/sra/SRR/SRR129/SRR12957013/SRR12957013.sra /cellar/users/aklie/data/datasets/Chiou2021_islet_snATAC-seq/bin/data_acquisition/fastq 7.2 GB  \n",
      "SRR12957014   SRP290255       SRX9409842           https://sra-downloadb.be-md.ncbi.nlm.nih.gov/sos3/sra-pub-zq-22/SRR012/12957/SRR12957014/SRR12957014.lite.1 ftp://ftp-trace.ncbi.nlm.nih.gov/sra/sra-instant/reads/ByRun/sra/SRR/SRR129/SRR12957014/SRR12957014.sra /cellar/users/aklie/data/datasets/Chiou2021_islet_snATAC-seq/bin/data_acquisition/fastq 1.7 GB  \n",
      "SRR12957015   SRP290255       SRX9409843           https://sra-downloadb.be-md.ncbi.nlm.nih.gov/sos3/sra-pub-zq-24/SRR012/12957/SRR12957015/SRR12957015.lite.1 ftp://ftp-trace.ncbi.nlm.nih.gov/sra/sra-instant/reads/ByRun/sra/SRR/SRR129/SRR12957015/SRR12957015.sra /cellar/users/aklie/data/datasets/Chiou2021_islet_snATAC-seq/bin/data_acquisition/fastq 3.8 GB  \n",
      "SRR12957016   SRP290255       SRX9409844                                                  https://sra-pub-run-odp.s3.amazonaws.com/sra/SRR12957016/SRR12957016 ftp://ftp-trace.ncbi.nlm.nih.gov/sra/sra-instant/reads/ByRun/sra/SRR/SRR129/SRR12957016/SRR12957016.sra /cellar/users/aklie/data/datasets/Chiou2021_islet_snATAC-seq/bin/data_acquisition/fastq 4.1 GB  \n",
      "SRR14135828   SRP290255       SRX9409845           https://sra-downloadb.be-md.ncbi.nlm.nih.gov/sos3/sra-pub-zq-24/SRR014/14135/SRR14135828/SRR14135828.lite.1 ftp://ftp-trace.ncbi.nlm.nih.gov/sra/sra-instant/reads/ByRun/sra/SRR/SRR141/SRR14135828/SRR14135828.sra /cellar/users/aklie/data/datasets/Chiou2021_islet_snATAC-seq/bin/data_acquisition/fastq 7.6 GB  \n",
      "\n",
      "\n",
      "Total size: 24.4 GB\n",
      "\n",
      "\n",
      "\n",
      "\n"
     ]
    },
    {
     "ename": "SystemExit",
     "evalue": "0",
     "output_type": "error",
     "traceback": [
      "An exception has occurred, use %tb to see the full traceback.\n",
      "\u001b[0;31mSystemExit\u001b[0m\u001b[0;31m:\u001b[0m 0\n"
     ]
    },
    {
     "name": "stderr",
     "output_type": "stream",
     "text": [
      "/cellar/users/aklie/opt/miniconda3/envs/get_data/lib/python3.7/site-packages/IPython/core/interactiveshell.py:3465: UserWarning: To exit: use 'exit', 'quit', or Ctrl-D.\n",
      "  warn(\"To exit: use 'exit', 'quit', or Ctrl-D.\", stacklevel=1)\n"
     ]
    }
   ],
   "source": [
    "db.download(df=metadata, out_dir=fastq_dir)"
   ]
  },
  {
   "attachments": {},
   "cell_type": "markdown",
   "metadata": {},
   "source": [
    "# Convert to `fastq` files"
   ]
  },
  {
   "cell_type": "code",
   "execution_count": null,
   "metadata": {},
   "outputs": [],
   "source": [
    "import glob\n",
    "import subprocess"
   ]
  },
  {
   "cell_type": "code",
   "execution_count": 64,
   "metadata": {},
   "outputs": [],
   "source": [
    "tmp_dir = \"/cellar/users/aklie/tmp/fastq-dump\"\n",
    "gzip = True\n",
    "split_files = True\n",
    "threads = 4"
   ]
  },
  {
   "cell_type": "code",
   "execution_count": 72,
   "metadata": {},
   "outputs": [
    {
     "name": "stdout",
     "output_type": "stream",
     "text": [
      "parallel-fastq-dump --threads 4 --outdir /cellar/users/aklie/data/igvf/beta_cell_networks/fastq/Wang2023_islet_snATAC-seq/SRP311849/SRX10424698 --split-files --tmpdir /cellar/users/aklie/tmp/fastq-dump --gzip -s /cellar/users/aklie/data/igvf/beta_cell_networks/fastq/Wang2023_islet_snATAC-seq/SRP311849/SRX10424698/SRR14048750.sra\n"
     ]
    }
   ],
   "source": [
    "# Loop through and print out each SRA download file within the subdirectories of the fastq_dir\n",
    "# Run the following command parallel-fastq-dump --threads 4 --outdir . --split-files --tmpdir $tmp_dir --gzip -s SRR14048750.sra\n",
    "for sra_file in glob.glob(os.path.join(fastq_dir, srp_id, \"*\", \"*.sra\")):\n",
    "    sra_dir = os.path.dirname(sra_file)\n",
    "    if gzip:\n",
    "        cmd = f\"parallel-fastq-dump --threads {threads} --outdir {sra_dir} --split-files --tmpdir {tmp_dir} --gzip -s {sra_file}\"\n",
    "    else:\n",
    "        cmd = f\"parallel-fastq-dump --threads {threads} --outdir {sra_dir} --split-files --tmpdir {tmp_dir} -s {sra_file}\"\n",
    "    print(cmd)\n",
    "    \n",
    "    # Check to see if the files have already been downloaded\n",
    "    if len(glob.glob(os.path.join(sra_dir, \"*.fastq*\"))) > 0:\n",
    "        print(f\"Files already downloaded for {sra_dir}\")\n",
    "    else:\n",
    "        subprocess.run(cmd, shell=True)"
   ]
  },
  {
   "cell_type": "code",
   "execution_count": 65,
   "metadata": {},
   "outputs": [
    {
     "name": "stderr",
     "output_type": "stream",
     "text": [
      "100%|██████████| 1/1 [00:00<00:00, 13662.23it/s]\n"
     ]
    }
   ],
   "source": [
    "# Loop through and print out each SRA download file within the subdirectories of the fastq_dir\n",
    "for file in tqdm(os.listdir(fastq_dir)):\n",
    "    if file.endswith(\".sra\"):\n",
    "        file_path = os.path.join(fastq_dir, file)\n",
    "        print(file_path)"
   ]
  },
  {
   "attachments": {},
   "cell_type": "markdown",
   "metadata": {},
   "source": [
    "# DONE!"
   ]
  },
  {
   "attachments": {},
   "cell_type": "markdown",
   "metadata": {},
   "source": [
    "---"
   ]
  },
  {
   "cell_type": "code",
   "execution_count": 2,
   "metadata": {},
   "outputs": [],
   "source": [
    "import pandas as pd"
   ]
  },
  {
   "cell_type": "code",
   "execution_count": 3,
   "metadata": {},
   "outputs": [
    {
     "data": {
      "text/html": [
       "<div>\n",
       "<style scoped>\n",
       "    .dataframe tbody tr th:only-of-type {\n",
       "        vertical-align: middle;\n",
       "    }\n",
       "\n",
       "    .dataframe tbody tr th {\n",
       "        vertical-align: top;\n",
       "    }\n",
       "\n",
       "    .dataframe thead th {\n",
       "        text-align: right;\n",
       "    }\n",
       "</style>\n",
       "<table border=\"1\" class=\"dataframe\">\n",
       "  <thead>\n",
       "    <tr style=\"text-align: right;\">\n",
       "      <th></th>\n",
       "      <th>run_accession</th>\n",
       "      <th>study_accession</th>\n",
       "      <th>study_title</th>\n",
       "      <th>experiment_accession</th>\n",
       "      <th>experiment_title</th>\n",
       "      <th>experiment_desc</th>\n",
       "      <th>organism_taxid</th>\n",
       "      <th>organism_name</th>\n",
       "      <th>library_name</th>\n",
       "      <th>library_strategy</th>\n",
       "      <th>...</th>\n",
       "      <th>sex</th>\n",
       "      <th>age</th>\n",
       "      <th>bmi</th>\n",
       "      <th>donor id</th>\n",
       "      <th>ena_fastq_http</th>\n",
       "      <th>ena_fastq_http_1</th>\n",
       "      <th>ena_fastq_http_2</th>\n",
       "      <th>ena_fastq_ftp</th>\n",
       "      <th>ena_fastq_ftp_1</th>\n",
       "      <th>ena_fastq_ftp_2</th>\n",
       "    </tr>\n",
       "  </thead>\n",
       "  <tbody>\n",
       "    <tr>\n",
       "      <th>0</th>\n",
       "      <td>SRR12957013</td>\n",
       "      <td>SRP290255</td>\n",
       "      <td>Single-cell chromatin accessibility identifies...</td>\n",
       "      <td>SRX9409841</td>\n",
       "      <td>GSM4873768: Islet 1 snATAC (CB); Homo sapiens;...</td>\n",
       "      <td>GSM4873768: Islet 1 snATAC (CB); Homo sapiens;...</td>\n",
       "      <td>9606</td>\n",
       "      <td>Homo sapiens</td>\n",
       "      <td>NaN</td>\n",
       "      <td>ATAC-seq</td>\n",
       "      <td>...</td>\n",
       "      <td>male</td>\n",
       "      <td>32</td>\n",
       "      <td>32.3</td>\n",
       "      <td>UNOS:AFC2208</td>\n",
       "      <td>NaN</td>\n",
       "      <td>NaN</td>\n",
       "      <td>NaN</td>\n",
       "      <td>NaN</td>\n",
       "      <td>NaN</td>\n",
       "      <td>NaN</td>\n",
       "    </tr>\n",
       "    <tr>\n",
       "      <th>1</th>\n",
       "      <td>SRR12957014</td>\n",
       "      <td>SRP290255</td>\n",
       "      <td>Single-cell chromatin accessibility identifies...</td>\n",
       "      <td>SRX9409842</td>\n",
       "      <td>GSM4873769: Islet 2 snATAC (CB); Homo sapiens;...</td>\n",
       "      <td>GSM4873769: Islet 2 snATAC (CB); Homo sapiens;...</td>\n",
       "      <td>9606</td>\n",
       "      <td>Homo sapiens</td>\n",
       "      <td>NaN</td>\n",
       "      <td>ATAC-seq</td>\n",
       "      <td>...</td>\n",
       "      <td>male</td>\n",
       "      <td>45</td>\n",
       "      <td>29.3</td>\n",
       "      <td>UNOS:AFEA331</td>\n",
       "      <td>NaN</td>\n",
       "      <td>NaN</td>\n",
       "      <td>NaN</td>\n",
       "      <td>NaN</td>\n",
       "      <td>NaN</td>\n",
       "      <td>NaN</td>\n",
       "    </tr>\n",
       "    <tr>\n",
       "      <th>2</th>\n",
       "      <td>SRR12957015</td>\n",
       "      <td>SRP290255</td>\n",
       "      <td>Single-cell chromatin accessibility identifies...</td>\n",
       "      <td>SRX9409843</td>\n",
       "      <td>GSM4873770: Islet 3 snATAC (CB); Homo sapiens;...</td>\n",
       "      <td>GSM4873770: Islet 3 snATAC (CB); Homo sapiens;...</td>\n",
       "      <td>9606</td>\n",
       "      <td>Homo sapiens</td>\n",
       "      <td>NaN</td>\n",
       "      <td>ATAC-seq</td>\n",
       "      <td>...</td>\n",
       "      <td>male</td>\n",
       "      <td>62</td>\n",
       "      <td>36.1</td>\n",
       "      <td>UNOS:AFEP022</td>\n",
       "      <td>NaN</td>\n",
       "      <td>NaN</td>\n",
       "      <td>NaN</td>\n",
       "      <td>NaN</td>\n",
       "      <td>NaN</td>\n",
       "      <td>NaN</td>\n",
       "    </tr>\n",
       "    <tr>\n",
       "      <th>3</th>\n",
       "      <td>SRR12957016</td>\n",
       "      <td>SRP290255</td>\n",
       "      <td>Single-cell chromatin accessibility identifies...</td>\n",
       "      <td>SRX9409844</td>\n",
       "      <td>GSM4873771: Pancreas 1 snATAC (CB); Homo sapie...</td>\n",
       "      <td>GSM4873771: Pancreas 1 snATAC (CB); Homo sapie...</td>\n",
       "      <td>9606</td>\n",
       "      <td>Homo sapiens</td>\n",
       "      <td>NaN</td>\n",
       "      <td>ATAC-seq</td>\n",
       "      <td>...</td>\n",
       "      <td>male</td>\n",
       "      <td>33</td>\n",
       "      <td>30.9</td>\n",
       "      <td>nPOD:6004</td>\n",
       "      <td>NaN</td>\n",
       "      <td>NaN</td>\n",
       "      <td>NaN</td>\n",
       "      <td>NaN</td>\n",
       "      <td>NaN</td>\n",
       "      <td>NaN</td>\n",
       "    </tr>\n",
       "    <tr>\n",
       "      <th>4</th>\n",
       "      <td>SRR14135828</td>\n",
       "      <td>SRP290255</td>\n",
       "      <td>Single-cell chromatin accessibility identifies...</td>\n",
       "      <td>SRX9409845</td>\n",
       "      <td>GSM4873772: Pancreas 1 snATAC (10X); Homo sapi...</td>\n",
       "      <td>GSM4873772: Pancreas 1 snATAC (10X); Homo sapi...</td>\n",
       "      <td>9606</td>\n",
       "      <td>Homo sapiens</td>\n",
       "      <td>NaN</td>\n",
       "      <td>ATAC-seq</td>\n",
       "      <td>...</td>\n",
       "      <td>male</td>\n",
       "      <td>33</td>\n",
       "      <td>30.9</td>\n",
       "      <td>nPOD:6004</td>\n",
       "      <td>NaN</td>\n",
       "      <td>NaN</td>\n",
       "      <td>NaN</td>\n",
       "      <td>NaN</td>\n",
       "      <td>NaN</td>\n",
       "      <td>NaN</td>\n",
       "    </tr>\n",
       "  </tbody>\n",
       "</table>\n",
       "<p>5 rows × 54 columns</p>\n",
       "</div>"
      ],
      "text/plain": [
       "  run_accession study_accession  \\\n",
       "0   SRR12957013       SRP290255   \n",
       "1   SRR12957014       SRP290255   \n",
       "2   SRR12957015       SRP290255   \n",
       "3   SRR12957016       SRP290255   \n",
       "4   SRR14135828       SRP290255   \n",
       "\n",
       "                                         study_title experiment_accession  \\\n",
       "0  Single-cell chromatin accessibility identifies...           SRX9409841   \n",
       "1  Single-cell chromatin accessibility identifies...           SRX9409842   \n",
       "2  Single-cell chromatin accessibility identifies...           SRX9409843   \n",
       "3  Single-cell chromatin accessibility identifies...           SRX9409844   \n",
       "4  Single-cell chromatin accessibility identifies...           SRX9409845   \n",
       "\n",
       "                                    experiment_title  \\\n",
       "0  GSM4873768: Islet 1 snATAC (CB); Homo sapiens;...   \n",
       "1  GSM4873769: Islet 2 snATAC (CB); Homo sapiens;...   \n",
       "2  GSM4873770: Islet 3 snATAC (CB); Homo sapiens;...   \n",
       "3  GSM4873771: Pancreas 1 snATAC (CB); Homo sapie...   \n",
       "4  GSM4873772: Pancreas 1 snATAC (10X); Homo sapi...   \n",
       "\n",
       "                                     experiment_desc  organism_taxid  \\\n",
       "0  GSM4873768: Islet 1 snATAC (CB); Homo sapiens;...            9606   \n",
       "1  GSM4873769: Islet 2 snATAC (CB); Homo sapiens;...            9606   \n",
       "2  GSM4873770: Islet 3 snATAC (CB); Homo sapiens;...            9606   \n",
       "3  GSM4873771: Pancreas 1 snATAC (CB); Homo sapie...            9606   \n",
       "4  GSM4873772: Pancreas 1 snATAC (10X); Homo sapi...            9606   \n",
       "\n",
       "  organism_name  library_name library_strategy  ...   sex age   bmi  \\\n",
       "0  Homo sapiens           NaN         ATAC-seq  ...  male  32  32.3   \n",
       "1  Homo sapiens           NaN         ATAC-seq  ...  male  45  29.3   \n",
       "2  Homo sapiens           NaN         ATAC-seq  ...  male  62  36.1   \n",
       "3  Homo sapiens           NaN         ATAC-seq  ...  male  33  30.9   \n",
       "4  Homo sapiens           NaN         ATAC-seq  ...  male  33  30.9   \n",
       "\n",
       "       donor id  ena_fastq_http ena_fastq_http_1 ena_fastq_http_2  \\\n",
       "0  UNOS:AFC2208             NaN              NaN              NaN   \n",
       "1  UNOS:AFEA331             NaN              NaN              NaN   \n",
       "2  UNOS:AFEP022             NaN              NaN              NaN   \n",
       "3     nPOD:6004             NaN              NaN              NaN   \n",
       "4     nPOD:6004             NaN              NaN              NaN   \n",
       "\n",
       "  ena_fastq_ftp  ena_fastq_ftp_1  ena_fastq_ftp_2  \n",
       "0           NaN              NaN              NaN  \n",
       "1           NaN              NaN              NaN  \n",
       "2           NaN              NaN              NaN  \n",
       "3           NaN              NaN              NaN  \n",
       "4           NaN              NaN              NaN  \n",
       "\n",
       "[5 rows x 54 columns]"
      ]
     },
     "execution_count": 3,
     "metadata": {},
     "output_type": "execute_result"
    }
   ],
   "source": [
    "mdata = pd.read_csv(\"/cellar/users/aklie/data/datasets/Chiou2021_islet_snATAC-seq/bin/data_acquisition/SRP290255_metadata.tsv\", sep=\"\\t\")\n",
    "mdata"
   ]
  },
  {
   "cell_type": "code",
   "execution_count": 13,
   "metadata": {},
   "outputs": [
    {
     "data": {
      "text/html": [
       "<div>\n",
       "<style scoped>\n",
       "    .dataframe tbody tr th:only-of-type {\n",
       "        vertical-align: middle;\n",
       "    }\n",
       "\n",
       "    .dataframe tbody tr th {\n",
       "        vertical-align: top;\n",
       "    }\n",
       "\n",
       "    .dataframe thead th {\n",
       "        text-align: right;\n",
       "    }\n",
       "</style>\n",
       "<table border=\"1\" class=\"dataframe\">\n",
       "  <thead>\n",
       "    <tr style=\"text-align: right;\">\n",
       "      <th></th>\n",
       "      <th>run_accession</th>\n",
       "      <th>study_accession</th>\n",
       "      <th>study_title</th>\n",
       "      <th>experiment_accession</th>\n",
       "      <th>experiment_title</th>\n",
       "      <th>experiment_desc</th>\n",
       "      <th>organism_taxid</th>\n",
       "      <th>organism_name</th>\n",
       "      <th>library_name</th>\n",
       "      <th>library_strategy</th>\n",
       "      <th>...</th>\n",
       "      <th>sex</th>\n",
       "      <th>age</th>\n",
       "      <th>bmi</th>\n",
       "      <th>donor id</th>\n",
       "      <th>ena_fastq_http</th>\n",
       "      <th>ena_fastq_http_1</th>\n",
       "      <th>ena_fastq_http_2</th>\n",
       "      <th>ena_fastq_ftp</th>\n",
       "      <th>ena_fastq_ftp_1</th>\n",
       "      <th>ena_fastq_ftp_2</th>\n",
       "    </tr>\n",
       "  </thead>\n",
       "  <tbody>\n",
       "    <tr>\n",
       "      <th>0</th>\n",
       "      <td>SRR12957013</td>\n",
       "      <td>SRP290255</td>\n",
       "      <td>Single-cell chromatin accessibility identifies...</td>\n",
       "      <td>SRX9409841</td>\n",
       "      <td>GSM4873768: Islet 1 snATAC (CB); Homo sapiens;...</td>\n",
       "      <td>GSM4873768: Islet 1 snATAC (CB); Homo sapiens;...</td>\n",
       "      <td>9606</td>\n",
       "      <td>Homo sapiens</td>\n",
       "      <td>NaN</td>\n",
       "      <td>ATAC-seq</td>\n",
       "      <td>...</td>\n",
       "      <td>male</td>\n",
       "      <td>32</td>\n",
       "      <td>32.3</td>\n",
       "      <td>UNOS:AFC2208</td>\n",
       "      <td>NaN</td>\n",
       "      <td>NaN</td>\n",
       "      <td>NaN</td>\n",
       "      <td>NaN</td>\n",
       "      <td>NaN</td>\n",
       "      <td>NaN</td>\n",
       "    </tr>\n",
       "    <tr>\n",
       "      <th>1</th>\n",
       "      <td>SRR12957014</td>\n",
       "      <td>SRP290255</td>\n",
       "      <td>Single-cell chromatin accessibility identifies...</td>\n",
       "      <td>SRX9409842</td>\n",
       "      <td>GSM4873769: Islet 2 snATAC (CB); Homo sapiens;...</td>\n",
       "      <td>GSM4873769: Islet 2 snATAC (CB); Homo sapiens;...</td>\n",
       "      <td>9606</td>\n",
       "      <td>Homo sapiens</td>\n",
       "      <td>NaN</td>\n",
       "      <td>ATAC-seq</td>\n",
       "      <td>...</td>\n",
       "      <td>male</td>\n",
       "      <td>45</td>\n",
       "      <td>29.3</td>\n",
       "      <td>UNOS:AFEA331</td>\n",
       "      <td>NaN</td>\n",
       "      <td>NaN</td>\n",
       "      <td>NaN</td>\n",
       "      <td>NaN</td>\n",
       "      <td>NaN</td>\n",
       "      <td>NaN</td>\n",
       "    </tr>\n",
       "    <tr>\n",
       "      <th>2</th>\n",
       "      <td>SRR12957015</td>\n",
       "      <td>SRP290255</td>\n",
       "      <td>Single-cell chromatin accessibility identifies...</td>\n",
       "      <td>SRX9409843</td>\n",
       "      <td>GSM4873770: Islet 3 snATAC (CB); Homo sapiens;...</td>\n",
       "      <td>GSM4873770: Islet 3 snATAC (CB); Homo sapiens;...</td>\n",
       "      <td>9606</td>\n",
       "      <td>Homo sapiens</td>\n",
       "      <td>NaN</td>\n",
       "      <td>ATAC-seq</td>\n",
       "      <td>...</td>\n",
       "      <td>male</td>\n",
       "      <td>62</td>\n",
       "      <td>36.1</td>\n",
       "      <td>UNOS:AFEP022</td>\n",
       "      <td>NaN</td>\n",
       "      <td>NaN</td>\n",
       "      <td>NaN</td>\n",
       "      <td>NaN</td>\n",
       "      <td>NaN</td>\n",
       "      <td>NaN</td>\n",
       "    </tr>\n",
       "    <tr>\n",
       "      <th>3</th>\n",
       "      <td>SRR12957016</td>\n",
       "      <td>SRP290255</td>\n",
       "      <td>Single-cell chromatin accessibility identifies...</td>\n",
       "      <td>SRX9409844</td>\n",
       "      <td>GSM4873771: Pancreas 1 snATAC (CB); Homo sapie...</td>\n",
       "      <td>GSM4873771: Pancreas 1 snATAC (CB); Homo sapie...</td>\n",
       "      <td>9606</td>\n",
       "      <td>Homo sapiens</td>\n",
       "      <td>NaN</td>\n",
       "      <td>ATAC-seq</td>\n",
       "      <td>...</td>\n",
       "      <td>male</td>\n",
       "      <td>33</td>\n",
       "      <td>30.9</td>\n",
       "      <td>nPOD:6004</td>\n",
       "      <td>NaN</td>\n",
       "      <td>NaN</td>\n",
       "      <td>NaN</td>\n",
       "      <td>NaN</td>\n",
       "      <td>NaN</td>\n",
       "      <td>NaN</td>\n",
       "    </tr>\n",
       "    <tr>\n",
       "      <th>4</th>\n",
       "      <td>SRR14135828</td>\n",
       "      <td>SRP290255</td>\n",
       "      <td>Single-cell chromatin accessibility identifies...</td>\n",
       "      <td>SRX9409845</td>\n",
       "      <td>GSM4873772: Pancreas 1 snATAC (10X); Homo sapi...</td>\n",
       "      <td>GSM4873772: Pancreas 1 snATAC (10X); Homo sapi...</td>\n",
       "      <td>9606</td>\n",
       "      <td>Homo sapiens</td>\n",
       "      <td>NaN</td>\n",
       "      <td>ATAC-seq</td>\n",
       "      <td>...</td>\n",
       "      <td>male</td>\n",
       "      <td>33</td>\n",
       "      <td>30.9</td>\n",
       "      <td>nPOD:6004</td>\n",
       "      <td>NaN</td>\n",
       "      <td>NaN</td>\n",
       "      <td>NaN</td>\n",
       "      <td>NaN</td>\n",
       "      <td>NaN</td>\n",
       "      <td>NaN</td>\n",
       "    </tr>\n",
       "  </tbody>\n",
       "</table>\n",
       "<p>5 rows × 54 columns</p>\n",
       "</div>"
      ],
      "text/plain": [
       "  run_accession study_accession  \\\n",
       "0   SRR12957013       SRP290255   \n",
       "1   SRR12957014       SRP290255   \n",
       "2   SRR12957015       SRP290255   \n",
       "3   SRR12957016       SRP290255   \n",
       "4   SRR14135828       SRP290255   \n",
       "\n",
       "                                         study_title experiment_accession  \\\n",
       "0  Single-cell chromatin accessibility identifies...           SRX9409841   \n",
       "1  Single-cell chromatin accessibility identifies...           SRX9409842   \n",
       "2  Single-cell chromatin accessibility identifies...           SRX9409843   \n",
       "3  Single-cell chromatin accessibility identifies...           SRX9409844   \n",
       "4  Single-cell chromatin accessibility identifies...           SRX9409845   \n",
       "\n",
       "                                    experiment_title  \\\n",
       "0  GSM4873768: Islet 1 snATAC (CB); Homo sapiens;...   \n",
       "1  GSM4873769: Islet 2 snATAC (CB); Homo sapiens;...   \n",
       "2  GSM4873770: Islet 3 snATAC (CB); Homo sapiens;...   \n",
       "3  GSM4873771: Pancreas 1 snATAC (CB); Homo sapie...   \n",
       "4  GSM4873772: Pancreas 1 snATAC (10X); Homo sapi...   \n",
       "\n",
       "                                     experiment_desc  organism_taxid  \\\n",
       "0  GSM4873768: Islet 1 snATAC (CB); Homo sapiens;...            9606   \n",
       "1  GSM4873769: Islet 2 snATAC (CB); Homo sapiens;...            9606   \n",
       "2  GSM4873770: Islet 3 snATAC (CB); Homo sapiens;...            9606   \n",
       "3  GSM4873771: Pancreas 1 snATAC (CB); Homo sapie...            9606   \n",
       "4  GSM4873772: Pancreas 1 snATAC (10X); Homo sapi...            9606   \n",
       "\n",
       "  organism_name  library_name library_strategy  ...   sex age   bmi  \\\n",
       "0  Homo sapiens           NaN         ATAC-seq  ...  male  32  32.3   \n",
       "1  Homo sapiens           NaN         ATAC-seq  ...  male  45  29.3   \n",
       "2  Homo sapiens           NaN         ATAC-seq  ...  male  62  36.1   \n",
       "3  Homo sapiens           NaN         ATAC-seq  ...  male  33  30.9   \n",
       "4  Homo sapiens           NaN         ATAC-seq  ...  male  33  30.9   \n",
       "\n",
       "       donor id  ena_fastq_http ena_fastq_http_1 ena_fastq_http_2  \\\n",
       "0  UNOS:AFC2208             NaN              NaN              NaN   \n",
       "1  UNOS:AFEA331             NaN              NaN              NaN   \n",
       "2  UNOS:AFEP022             NaN              NaN              NaN   \n",
       "3     nPOD:6004             NaN              NaN              NaN   \n",
       "4     nPOD:6004             NaN              NaN              NaN   \n",
       "\n",
       "  ena_fastq_ftp  ena_fastq_ftp_1  ena_fastq_ftp_2  \n",
       "0           NaN              NaN              NaN  \n",
       "1           NaN              NaN              NaN  \n",
       "2           NaN              NaN              NaN  \n",
       "3           NaN              NaN              NaN  \n",
       "4           NaN              NaN              NaN  \n",
       "\n",
       "[5 rows x 54 columns]"
      ]
     },
     "execution_count": 13,
     "metadata": {},
     "output_type": "execute_result"
    }
   ],
   "source": [
    "mdata"
   ]
  },
  {
   "cell_type": "code",
   "execution_count": 15,
   "metadata": {},
   "outputs": [],
   "source": [
    "# Grab stuff in between \":\" and \"snATAC\", remove trailing and leading whitespace, and add \"_\" between any remaining whitespace\n",
    "mdata.set_index(\"donor id\")[\"experiment_title\"].str.extract(r\":\\s*(.*?)\\s*snATAC\").iloc[:, 0].str.replace(\"\\s+\", \"\").to_csv(\"/cellar/users/aklie/data/datasets/Chiou2021_islet_snATAC-seq/ref/publication/id_mapping.txt\")"
   ]
  }
 ],
 "metadata": {
  "kernelspec": {
   "display_name": "Python 3.7 get_data",
   "language": "python",
   "name": "get_data"
  },
  "orig_nbformat": 4
 },
 "nbformat": 4,
 "nbformat_minor": 2
}
