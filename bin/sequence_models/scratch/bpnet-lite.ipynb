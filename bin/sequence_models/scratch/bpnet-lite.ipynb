{
 "cells": [
  {
   "cell_type": "code",
   "execution_count": 1,
   "metadata": {},
   "outputs": [
    {
     "name": "stdout",
     "output_type": "stream",
     "text": [
      "The history saving thread hit an unexpected error (DatabaseError('database disk image is malformed')).History will not be written to the database.\n"
     ]
    }
   ],
   "source": [
    "import torch"
   ]
  },
  {
   "cell_type": "code",
   "execution_count": 2,
   "metadata": {},
   "outputs": [],
   "source": [
    "model = torch.load(\"/cellar/users/aklie/data/datasets/Chiou2021_islet_snATAC-seq/results/sequence_models/bpnet-lite/fold_0/beta_1.torch\")"
   ]
  },
  {
   "cell_type": "code",
   "execution_count": 3,
   "metadata": {},
   "outputs": [
    {
     "data": {
      "text/plain": [
       "ChromBPNet(\n",
       "  (bias): BPNet(\n",
       "    (iconv): Conv1d(4, 512, kernel_size=(21,), stride=(1,), padding=(10,))\n",
       "    (irelu): ReLU()\n",
       "    (rconvs): ModuleList(\n",
       "      (0): Conv1d(512, 512, kernel_size=(3,), stride=(1,), padding=(2,), dilation=(2,))\n",
       "      (1): Conv1d(512, 512, kernel_size=(3,), stride=(1,), padding=(4,), dilation=(4,))\n",
       "      (2): Conv1d(512, 512, kernel_size=(3,), stride=(1,), padding=(8,), dilation=(8,))\n",
       "      (3): Conv1d(512, 512, kernel_size=(3,), stride=(1,), padding=(16,), dilation=(16,))\n",
       "    )\n",
       "    (rrelus): ModuleList(\n",
       "      (0-3): 4 x ReLU()\n",
       "    )\n",
       "    (fconv): Conv1d(512, 1, kernel_size=(75,), stride=(1,), padding=(37,))\n",
       "    (linear): Linear(in_features=512, out_features=1, bias=True)\n",
       "  )\n",
       "  (accessibility): BPNet(\n",
       "    (iconv): Conv1d(4, 512, kernel_size=(21,), stride=(1,), padding=(10,))\n",
       "    (irelu): ReLU()\n",
       "    (rconvs): ModuleList(\n",
       "      (0): Conv1d(512, 512, kernel_size=(3,), stride=(1,), padding=(2,), dilation=(2,))\n",
       "      (1): Conv1d(512, 512, kernel_size=(3,), stride=(1,), padding=(4,), dilation=(4,))\n",
       "      (2): Conv1d(512, 512, kernel_size=(3,), stride=(1,), padding=(8,), dilation=(8,))\n",
       "      (3): Conv1d(512, 512, kernel_size=(3,), stride=(1,), padding=(16,), dilation=(16,))\n",
       "      (4): Conv1d(512, 512, kernel_size=(3,), stride=(1,), padding=(32,), dilation=(32,))\n",
       "      (5): Conv1d(512, 512, kernel_size=(3,), stride=(1,), padding=(64,), dilation=(64,))\n",
       "      (6): Conv1d(512, 512, kernel_size=(3,), stride=(1,), padding=(128,), dilation=(128,))\n",
       "      (7): Conv1d(512, 512, kernel_size=(3,), stride=(1,), padding=(256,), dilation=(256,))\n",
       "    )\n",
       "    (rrelus): ModuleList(\n",
       "      (0-7): 8 x ReLU()\n",
       "    )\n",
       "    (fconv): Conv1d(512, 1, kernel_size=(75,), stride=(1,), padding=(37,))\n",
       "    (linear): Linear(in_features=512, out_features=1, bias=True)\n",
       "  )\n",
       ")"
      ]
     },
     "execution_count": 3,
     "metadata": {},
     "output_type": "execute_result"
    }
   ],
   "source": [
    "model"
   ]
  },
  {
   "cell_type": "code",
   "execution_count": 5,
   "metadata": {},
   "outputs": [
    {
     "data": {
      "text/plain": [
       "6.377986"
      ]
     },
     "execution_count": 5,
     "metadata": {},
     "output_type": "execute_result"
    }
   ],
   "source": [
    "# How many parameters does the model have?\n",
    "sum(p.numel() for p in model.parameters() if p.requires_grad) / 1e6"
   ]
  },
  {
   "cell_type": "code",
   "execution_count": 6,
   "metadata": {},
   "outputs": [
    {
     "data": {
      "text/plain": [
       "ChromBPNet(\n",
       "  (bias): BPNet(\n",
       "    (iconv): Conv1d(4, 512, kernel_size=(21,), stride=(1,), padding=(10,))\n",
       "    (irelu): ReLU()\n",
       "    (rconvs): ModuleList(\n",
       "      (0): Conv1d(512, 512, kernel_size=(3,), stride=(1,), padding=(2,), dilation=(2,))\n",
       "      (1): Conv1d(512, 512, kernel_size=(3,), stride=(1,), padding=(4,), dilation=(4,))\n",
       "      (2): Conv1d(512, 512, kernel_size=(3,), stride=(1,), padding=(8,), dilation=(8,))\n",
       "      (3): Conv1d(512, 512, kernel_size=(3,), stride=(1,), padding=(16,), dilation=(16,))\n",
       "    )\n",
       "    (rrelus): ModuleList(\n",
       "      (0-3): 4 x ReLU()\n",
       "    )\n",
       "    (fconv): Conv1d(512, 1, kernel_size=(75,), stride=(1,), padding=(37,))\n",
       "    (linear): Linear(in_features=512, out_features=1, bias=True)\n",
       "  )\n",
       "  (accessibility): BPNet(\n",
       "    (iconv): Conv1d(4, 512, kernel_size=(21,), stride=(1,), padding=(10,))\n",
       "    (irelu): ReLU()\n",
       "    (rconvs): ModuleList(\n",
       "      (0): Conv1d(512, 512, kernel_size=(3,), stride=(1,), padding=(2,), dilation=(2,))\n",
       "      (1): Conv1d(512, 512, kernel_size=(3,), stride=(1,), padding=(4,), dilation=(4,))\n",
       "      (2): Conv1d(512, 512, kernel_size=(3,), stride=(1,), padding=(8,), dilation=(8,))\n",
       "      (3): Conv1d(512, 512, kernel_size=(3,), stride=(1,), padding=(16,), dilation=(16,))\n",
       "      (4): Conv1d(512, 512, kernel_size=(3,), stride=(1,), padding=(32,), dilation=(32,))\n",
       "      (5): Conv1d(512, 512, kernel_size=(3,), stride=(1,), padding=(64,), dilation=(64,))\n",
       "      (6): Conv1d(512, 512, kernel_size=(3,), stride=(1,), padding=(128,), dilation=(128,))\n",
       "      (7): Conv1d(512, 512, kernel_size=(3,), stride=(1,), padding=(256,), dilation=(256,))\n",
       "    )\n",
       "    (rrelus): ModuleList(\n",
       "      (0-7): 8 x ReLU()\n",
       "    )\n",
       "    (fconv): Conv1d(512, 1, kernel_size=(75,), stride=(1,), padding=(37,))\n",
       "    (linear): Linear(in_features=512, out_features=1, bias=True)\n",
       "  )\n",
       ")"
      ]
     },
     "execution_count": 6,
     "metadata": {},
     "output_type": "execute_result"
    }
   ],
   "source": [
    "# Put on cuda\n",
    "model.cuda()"
   ]
  },
  {
   "cell_type": "code",
   "execution_count": 8,
   "metadata": {},
   "outputs": [
    {
     "data": {
      "text/plain": [
       "0.038434816"
      ]
     },
     "execution_count": 8,
     "metadata": {},
     "output_type": "execute_result"
    }
   ],
   "source": [
    "# How much space does the model take up on the GPU?\n",
    "torch.cuda.memory_allocated() / 1e9"
   ]
  },
  {
   "cell_type": "code",
   "execution_count": null,
   "metadata": {},
   "outputs": [],
   "source": []
  }
 ],
 "metadata": {
  "kernelspec": {
   "display_name": "Python 3.9 ml4gland",
   "language": "python",
   "name": "ml4gland"
  }
 },
 "nbformat": 4,
 "nbformat_minor": 2
}
