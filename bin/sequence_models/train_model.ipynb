{
 "cells": [
  {
   "cell_type": "code",
   "execution_count": 1,
   "metadata": {},
   "outputs": [
    {
     "name": "stdout",
     "output_type": "stream",
     "text": [
      "The history saving thread hit an unexpected error (DatabaseError('database disk image is malformed')).History will not be written to the database.\n"
     ]
    }
   ],
   "source": [
    "# Imports\n",
    "import os\n",
    "import torch\n",
    "import pandas as pd\n",
    "import numpy as np\n",
    "import xarray as xr\n",
    "import torch.nn as nn\n",
    "\n",
    "import seqpro as sp\n",
    "import seqmodels as sm\n",
    "import seqdata as sd"
   ]
  },
  {
   "cell_type": "code",
   "execution_count": 2,
   "metadata": {},
   "outputs": [
    {
     "name": "stdout",
     "output_type": "stream",
     "text": [
      "Using device: cuda\n"
     ]
    }
   ],
   "source": [
    "# Report cuda availability\n",
    "device = torch.device(\"cuda\" if torch.cuda.is_available() else \"cpu\")\n",
    "print('Using device:', device)"
   ]
  },
  {
   "cell_type": "code",
   "execution_count": 3,
   "metadata": {},
   "outputs": [],
   "source": [
    "# Change working directory\n",
    "os.chdir(\"/cellar/users/aklie/data/datasets/Chiou2021_islet_snATAC-seq/results/sequence_models/training\")"
   ]
  },
  {
   "cell_type": "code",
   "execution_count": 4,
   "metadata": {},
   "outputs": [],
   "source": [
    "# Set seed\n",
    "np.random.seed(1234)"
   ]
  },
  {
   "cell_type": "markdown",
   "metadata": {},
   "source": [
    "# Data"
   ]
  },
  {
   "cell_type": "code",
   "execution_count": 5,
   "metadata": {},
   "outputs": [
    {
     "data": {
      "text/plain": [
       "(17, 2, 3)"
      ]
     },
     "execution_count": 5,
     "metadata": {},
     "output_type": "execute_result"
    }
   ],
   "source": [
    "# Define training and validation chromosomes\n",
    "train_chroms = ['chr{}'.format(i) for i in range(1, 23)]\n",
    "valid_chroms = ['chr8', 'chr20']\n",
    "test_chroms = ['chr1', 'chr3', 'chr6']\n",
    "train_chroms = [chrom for chrom in train_chroms if chrom not in valid_chroms + test_chroms]\n",
    "len(train_chroms), len(valid_chroms), len(test_chroms)"
   ]
  },
  {
   "cell_type": "code",
   "execution_count": 6,
   "metadata": {},
   "outputs": [
    {
     "data": {
      "text/html": [
       "<div><svg style=\"position: absolute; width: 0; height: 0; overflow: hidden\">\n",
       "<defs>\n",
       "<symbol id=\"icon-database\" viewBox=\"0 0 32 32\">\n",
       "<path d=\"M16 0c-8.837 0-16 2.239-16 5v4c0 2.761 7.163 5 16 5s16-2.239 16-5v-4c0-2.761-7.163-5-16-5z\"></path>\n",
       "<path d=\"M16 17c-8.837 0-16-2.239-16-5v6c0 2.761 7.163 5 16 5s16-2.239 16-5v-6c0 2.761-7.163 5-16 5z\"></path>\n",
       "<path d=\"M16 26c-8.837 0-16-2.239-16-5v6c0 2.761 7.163 5 16 5s16-2.239 16-5v-6c0 2.761-7.163 5-16 5z\"></path>\n",
       "</symbol>\n",
       "<symbol id=\"icon-file-text2\" viewBox=\"0 0 32 32\">\n",
       "<path d=\"M28.681 7.159c-0.694-0.947-1.662-2.053-2.724-3.116s-2.169-2.030-3.116-2.724c-1.612-1.182-2.393-1.319-2.841-1.319h-15.5c-1.378 0-2.5 1.121-2.5 2.5v27c0 1.378 1.122 2.5 2.5 2.5h23c1.378 0 2.5-1.122 2.5-2.5v-19.5c0-0.448-0.137-1.23-1.319-2.841zM24.543 5.457c0.959 0.959 1.712 1.825 2.268 2.543h-4.811v-4.811c0.718 0.556 1.584 1.309 2.543 2.268zM28 29.5c0 0.271-0.229 0.5-0.5 0.5h-23c-0.271 0-0.5-0.229-0.5-0.5v-27c0-0.271 0.229-0.5 0.5-0.5 0 0 15.499-0 15.5 0v7c0 0.552 0.448 1 1 1h7v19.5z\"></path>\n",
       "<path d=\"M23 26h-14c-0.552 0-1-0.448-1-1s0.448-1 1-1h14c0.552 0 1 0.448 1 1s-0.448 1-1 1z\"></path>\n",
       "<path d=\"M23 22h-14c-0.552 0-1-0.448-1-1s0.448-1 1-1h14c0.552 0 1 0.448 1 1s-0.448 1-1 1z\"></path>\n",
       "<path d=\"M23 18h-14c-0.552 0-1-0.448-1-1s0.448-1 1-1h14c0.552 0 1 0.448 1 1s-0.448 1-1 1z\"></path>\n",
       "</symbol>\n",
       "</defs>\n",
       "</svg>\n",
       "<style>/* CSS stylesheet for displaying xarray objects in jupyterlab.\n",
       " *\n",
       " */\n",
       "\n",
       ":root {\n",
       "  --xr-font-color0: var(--jp-content-font-color0, rgba(0, 0, 0, 1));\n",
       "  --xr-font-color2: var(--jp-content-font-color2, rgba(0, 0, 0, 0.54));\n",
       "  --xr-font-color3: var(--jp-content-font-color3, rgba(0, 0, 0, 0.38));\n",
       "  --xr-border-color: var(--jp-border-color2, #e0e0e0);\n",
       "  --xr-disabled-color: var(--jp-layout-color3, #bdbdbd);\n",
       "  --xr-background-color: var(--jp-layout-color0, white);\n",
       "  --xr-background-color-row-even: var(--jp-layout-color1, white);\n",
       "  --xr-background-color-row-odd: var(--jp-layout-color2, #eeeeee);\n",
       "}\n",
       "\n",
       "html[theme=dark],\n",
       "body[data-theme=dark],\n",
       "body.vscode-dark {\n",
       "  --xr-font-color0: rgba(255, 255, 255, 1);\n",
       "  --xr-font-color2: rgba(255, 255, 255, 0.54);\n",
       "  --xr-font-color3: rgba(255, 255, 255, 0.38);\n",
       "  --xr-border-color: #1F1F1F;\n",
       "  --xr-disabled-color: #515151;\n",
       "  --xr-background-color: #111111;\n",
       "  --xr-background-color-row-even: #111111;\n",
       "  --xr-background-color-row-odd: #313131;\n",
       "}\n",
       "\n",
       ".xr-wrap {\n",
       "  display: block !important;\n",
       "  min-width: 300px;\n",
       "  max-width: 700px;\n",
       "}\n",
       "\n",
       ".xr-text-repr-fallback {\n",
       "  /* fallback to plain text repr when CSS is not injected (untrusted notebook) */\n",
       "  display: none;\n",
       "}\n",
       "\n",
       ".xr-header {\n",
       "  padding-top: 6px;\n",
       "  padding-bottom: 6px;\n",
       "  margin-bottom: 4px;\n",
       "  border-bottom: solid 1px var(--xr-border-color);\n",
       "}\n",
       "\n",
       ".xr-header > div,\n",
       ".xr-header > ul {\n",
       "  display: inline;\n",
       "  margin-top: 0;\n",
       "  margin-bottom: 0;\n",
       "}\n",
       "\n",
       ".xr-obj-type,\n",
       ".xr-array-name {\n",
       "  margin-left: 2px;\n",
       "  margin-right: 10px;\n",
       "}\n",
       "\n",
       ".xr-obj-type {\n",
       "  color: var(--xr-font-color2);\n",
       "}\n",
       "\n",
       ".xr-sections {\n",
       "  padding-left: 0 !important;\n",
       "  display: grid;\n",
       "  grid-template-columns: 150px auto auto 1fr 20px 20px;\n",
       "}\n",
       "\n",
       ".xr-section-item {\n",
       "  display: contents;\n",
       "}\n",
       "\n",
       ".xr-section-item input {\n",
       "  display: none;\n",
       "}\n",
       "\n",
       ".xr-section-item input + label {\n",
       "  color: var(--xr-disabled-color);\n",
       "}\n",
       "\n",
       ".xr-section-item input:enabled + label {\n",
       "  cursor: pointer;\n",
       "  color: var(--xr-font-color2);\n",
       "}\n",
       "\n",
       ".xr-section-item input:enabled + label:hover {\n",
       "  color: var(--xr-font-color0);\n",
       "}\n",
       "\n",
       ".xr-section-summary {\n",
       "  grid-column: 1;\n",
       "  color: var(--xr-font-color2);\n",
       "  font-weight: 500;\n",
       "}\n",
       "\n",
       ".xr-section-summary > span {\n",
       "  display: inline-block;\n",
       "  padding-left: 0.5em;\n",
       "}\n",
       "\n",
       ".xr-section-summary-in:disabled + label {\n",
       "  color: var(--xr-font-color2);\n",
       "}\n",
       "\n",
       ".xr-section-summary-in + label:before {\n",
       "  display: inline-block;\n",
       "  content: '►';\n",
       "  font-size: 11px;\n",
       "  width: 15px;\n",
       "  text-align: center;\n",
       "}\n",
       "\n",
       ".xr-section-summary-in:disabled + label:before {\n",
       "  color: var(--xr-disabled-color);\n",
       "}\n",
       "\n",
       ".xr-section-summary-in:checked + label:before {\n",
       "  content: '▼';\n",
       "}\n",
       "\n",
       ".xr-section-summary-in:checked + label > span {\n",
       "  display: none;\n",
       "}\n",
       "\n",
       ".xr-section-summary,\n",
       ".xr-section-inline-details {\n",
       "  padding-top: 4px;\n",
       "  padding-bottom: 4px;\n",
       "}\n",
       "\n",
       ".xr-section-inline-details {\n",
       "  grid-column: 2 / -1;\n",
       "}\n",
       "\n",
       ".xr-section-details {\n",
       "  display: none;\n",
       "  grid-column: 1 / -1;\n",
       "  margin-bottom: 5px;\n",
       "}\n",
       "\n",
       ".xr-section-summary-in:checked ~ .xr-section-details {\n",
       "  display: contents;\n",
       "}\n",
       "\n",
       ".xr-array-wrap {\n",
       "  grid-column: 1 / -1;\n",
       "  display: grid;\n",
       "  grid-template-columns: 20px auto;\n",
       "}\n",
       "\n",
       ".xr-array-wrap > label {\n",
       "  grid-column: 1;\n",
       "  vertical-align: top;\n",
       "}\n",
       "\n",
       ".xr-preview {\n",
       "  color: var(--xr-font-color3);\n",
       "}\n",
       "\n",
       ".xr-array-preview,\n",
       ".xr-array-data {\n",
       "  padding: 0 5px !important;\n",
       "  grid-column: 2;\n",
       "}\n",
       "\n",
       ".xr-array-data,\n",
       ".xr-array-in:checked ~ .xr-array-preview {\n",
       "  display: none;\n",
       "}\n",
       "\n",
       ".xr-array-in:checked ~ .xr-array-data,\n",
       ".xr-array-preview {\n",
       "  display: inline-block;\n",
       "}\n",
       "\n",
       ".xr-dim-list {\n",
       "  display: inline-block !important;\n",
       "  list-style: none;\n",
       "  padding: 0 !important;\n",
       "  margin: 0;\n",
       "}\n",
       "\n",
       ".xr-dim-list li {\n",
       "  display: inline-block;\n",
       "  padding: 0;\n",
       "  margin: 0;\n",
       "}\n",
       "\n",
       ".xr-dim-list:before {\n",
       "  content: '(';\n",
       "}\n",
       "\n",
       ".xr-dim-list:after {\n",
       "  content: ')';\n",
       "}\n",
       "\n",
       ".xr-dim-list li:not(:last-child):after {\n",
       "  content: ',';\n",
       "  padding-right: 5px;\n",
       "}\n",
       "\n",
       ".xr-has-index {\n",
       "  font-weight: bold;\n",
       "}\n",
       "\n",
       ".xr-var-list,\n",
       ".xr-var-item {\n",
       "  display: contents;\n",
       "}\n",
       "\n",
       ".xr-var-item > div,\n",
       ".xr-var-item label,\n",
       ".xr-var-item > .xr-var-name span {\n",
       "  background-color: var(--xr-background-color-row-even);\n",
       "  margin-bottom: 0;\n",
       "}\n",
       "\n",
       ".xr-var-item > .xr-var-name:hover span {\n",
       "  padding-right: 5px;\n",
       "}\n",
       "\n",
       ".xr-var-list > li:nth-child(odd) > div,\n",
       ".xr-var-list > li:nth-child(odd) > label,\n",
       ".xr-var-list > li:nth-child(odd) > .xr-var-name span {\n",
       "  background-color: var(--xr-background-color-row-odd);\n",
       "}\n",
       "\n",
       ".xr-var-name {\n",
       "  grid-column: 1;\n",
       "}\n",
       "\n",
       ".xr-var-dims {\n",
       "  grid-column: 2;\n",
       "}\n",
       "\n",
       ".xr-var-dtype {\n",
       "  grid-column: 3;\n",
       "  text-align: right;\n",
       "  color: var(--xr-font-color2);\n",
       "}\n",
       "\n",
       ".xr-var-preview {\n",
       "  grid-column: 4;\n",
       "}\n",
       "\n",
       ".xr-index-preview {\n",
       "  grid-column: 2 / 5;\n",
       "  color: var(--xr-font-color2);\n",
       "}\n",
       "\n",
       ".xr-var-name,\n",
       ".xr-var-dims,\n",
       ".xr-var-dtype,\n",
       ".xr-preview,\n",
       ".xr-attrs dt {\n",
       "  white-space: nowrap;\n",
       "  overflow: hidden;\n",
       "  text-overflow: ellipsis;\n",
       "  padding-right: 10px;\n",
       "}\n",
       "\n",
       ".xr-var-name:hover,\n",
       ".xr-var-dims:hover,\n",
       ".xr-var-dtype:hover,\n",
       ".xr-attrs dt:hover {\n",
       "  overflow: visible;\n",
       "  width: auto;\n",
       "  z-index: 1;\n",
       "}\n",
       "\n",
       ".xr-var-attrs,\n",
       ".xr-var-data,\n",
       ".xr-index-data {\n",
       "  display: none;\n",
       "  background-color: var(--xr-background-color) !important;\n",
       "  padding-bottom: 5px !important;\n",
       "}\n",
       "\n",
       ".xr-var-attrs-in:checked ~ .xr-var-attrs,\n",
       ".xr-var-data-in:checked ~ .xr-var-data,\n",
       ".xr-index-data-in:checked ~ .xr-index-data {\n",
       "  display: block;\n",
       "}\n",
       "\n",
       ".xr-var-data > table {\n",
       "  float: right;\n",
       "}\n",
       "\n",
       ".xr-var-name span,\n",
       ".xr-var-data,\n",
       ".xr-index-name div,\n",
       ".xr-index-data,\n",
       ".xr-attrs {\n",
       "  padding-left: 25px !important;\n",
       "}\n",
       "\n",
       ".xr-attrs,\n",
       ".xr-var-attrs,\n",
       ".xr-var-data,\n",
       ".xr-index-data {\n",
       "  grid-column: 1 / -1;\n",
       "}\n",
       "\n",
       "dl.xr-attrs {\n",
       "  padding: 0;\n",
       "  margin: 0;\n",
       "  display: grid;\n",
       "  grid-template-columns: 125px auto;\n",
       "}\n",
       "\n",
       ".xr-attrs dt,\n",
       ".xr-attrs dd {\n",
       "  padding: 0;\n",
       "  margin: 0;\n",
       "  float: left;\n",
       "  padding-right: 10px;\n",
       "  width: auto;\n",
       "}\n",
       "\n",
       ".xr-attrs dt {\n",
       "  font-weight: normal;\n",
       "  grid-column: 1;\n",
       "}\n",
       "\n",
       ".xr-attrs dt:hover span {\n",
       "  display: inline-block;\n",
       "  background: var(--xr-background-color);\n",
       "  padding-right: 10px;\n",
       "}\n",
       "\n",
       ".xr-attrs dd {\n",
       "  grid-column: 2;\n",
       "  white-space: pre-wrap;\n",
       "  word-break: break-all;\n",
       "}\n",
       "\n",
       ".xr-icon-database,\n",
       ".xr-icon-file-text2,\n",
       ".xr-no-icon {\n",
       "  display: inline-block;\n",
       "  vertical-align: middle;\n",
       "  width: 1em;\n",
       "  height: 1.5em !important;\n",
       "  stroke-width: 0;\n",
       "  stroke: currentColor;\n",
       "  fill: currentColor;\n",
       "}\n",
       "</style><pre class='xr-text-repr-fallback'>&lt;xarray.Dataset&gt;\n",
       "Dimensions:     (_sequence: 388068, cov_sample: 1, _length: 2370)\n",
       "Coordinates:\n",
       "  * cov_sample  (cov_sample) object &#x27;beta_1&#x27;\n",
       "Dimensions without coordinates: _sequence, _length\n",
       "Data variables:\n",
       "    chrom       (_sequence) object &#x27;chr1&#x27; &#x27;chr1&#x27; &#x27;chr1&#x27; ... &#x27;chrY&#x27; &#x27;chrY&#x27; &#x27;chrY&#x27;\n",
       "    chromEnd    (_sequence) int64 184756122 88993998 ... 56862500 56877298\n",
       "    chromStart  (_sequence) int64 184753752 88991628 ... 56860130 56874928\n",
       "    cov         (_sequence, cov_sample, _length) float32 0.0 0.0 0.0 ... 0.0 0.0\n",
       "    name        (_sequence) object &#x27;peak&#x27; &#x27;peak&#x27; ... &#x27;gc_matched_negative&#x27;\n",
       "    seq         (_sequence, _length) |S1 b&#x27;T&#x27; b&#x27;T&#x27; b&#x27;T&#x27; b&#x27;C&#x27; ... b&#x27;T&#x27; b&#x27;C&#x27; b&#x27;A&#x27;\n",
       "    strand      (_sequence) object &#x27;+&#x27; &#x27;+&#x27; &#x27;+&#x27; &#x27;+&#x27; &#x27;+&#x27; ... &#x27;+&#x27; &#x27;+&#x27; &#x27;+&#x27; &#x27;+&#x27; &#x27;+&#x27;\n",
       "Attributes:\n",
       "    length_dim:    _length\n",
       "    max_jitter:    128\n",
       "    sequence_dim:  _sequence</pre><div class='xr-wrap' style='display:none'><div class='xr-header'><div class='xr-obj-type'>xarray.Dataset</div></div><ul class='xr-sections'><li class='xr-section-item'><input id='section-230cdf0c-9309-45a5-afef-f58f2301730f' class='xr-section-summary-in' type='checkbox' disabled ><label for='section-230cdf0c-9309-45a5-afef-f58f2301730f' class='xr-section-summary'  title='Expand/collapse section'>Dimensions:</label><div class='xr-section-inline-details'><ul class='xr-dim-list'><li><span>_sequence</span>: 388068</li><li><span class='xr-has-index'>cov_sample</span>: 1</li><li><span>_length</span>: 2370</li></ul></div><div class='xr-section-details'></div></li><li class='xr-section-item'><input id='section-0119a949-adb4-4559-a551-6b058a45c84e' class='xr-section-summary-in' type='checkbox'  checked><label for='section-0119a949-adb4-4559-a551-6b058a45c84e' class='xr-section-summary' >Coordinates: <span>(1)</span></label><div class='xr-section-inline-details'></div><div class='xr-section-details'><ul class='xr-var-list'><li class='xr-var-item'><div class='xr-var-name'><span class='xr-has-index'>cov_sample</span></div><div class='xr-var-dims'>(cov_sample)</div><div class='xr-var-dtype'>object</div><div class='xr-var-preview xr-preview'>&#x27;beta_1&#x27;</div><input id='attrs-010297c2-a45f-49ef-a204-b814e690f3a3' class='xr-var-attrs-in' type='checkbox' ><label for='attrs-010297c2-a45f-49ef-a204-b814e690f3a3' title='Show/Hide attributes'><svg class='icon xr-icon-file-text2'><use xlink:href='#icon-file-text2'></use></svg></label><input id='data-767c738e-b9ca-4e4a-ba6a-a848e808b4e4' class='xr-var-data-in' type='checkbox'><label for='data-767c738e-b9ca-4e4a-ba6a-a848e808b4e4' title='Show/Hide data repr'><svg class='icon xr-icon-database'><use xlink:href='#icon-database'></use></svg></label><div class='xr-var-attrs'><dl class='xr-attrs'><dt><span>_FillValue :</span></dt><dd>0</dd></dl></div><div class='xr-var-data'><pre>array([&#x27;beta_1&#x27;], dtype=object)</pre></div></li></ul></div></li><li class='xr-section-item'><input id='section-77b5761f-4579-4e8b-82cc-9c7581d9dafe' class='xr-section-summary-in' type='checkbox'  checked><label for='section-77b5761f-4579-4e8b-82cc-9c7581d9dafe' class='xr-section-summary' >Data variables: <span>(7)</span></label><div class='xr-section-inline-details'></div><div class='xr-section-details'><ul class='xr-var-list'><li class='xr-var-item'><div class='xr-var-name'><span>chrom</span></div><div class='xr-var-dims'>(_sequence)</div><div class='xr-var-dtype'>object</div><div class='xr-var-preview xr-preview'>&#x27;chr1&#x27; &#x27;chr1&#x27; ... &#x27;chrY&#x27; &#x27;chrY&#x27;</div><input id='attrs-30ea9302-0b96-40e6-886a-19e8171bd476' class='xr-var-attrs-in' type='checkbox' ><label for='attrs-30ea9302-0b96-40e6-886a-19e8171bd476' title='Show/Hide attributes'><svg class='icon xr-icon-file-text2'><use xlink:href='#icon-file-text2'></use></svg></label><input id='data-f3698a5f-23ed-48ba-ab6b-f2d764d8c8c2' class='xr-var-data-in' type='checkbox'><label for='data-f3698a5f-23ed-48ba-ab6b-f2d764d8c8c2' title='Show/Hide data repr'><svg class='icon xr-icon-database'><use xlink:href='#icon-database'></use></svg></label><div class='xr-var-attrs'><dl class='xr-attrs'><dt><span>_FillValue :</span></dt><dd>0</dd></dl></div><div class='xr-var-data'><pre>array([&#x27;chr1&#x27;, &#x27;chr1&#x27;, &#x27;chr1&#x27;, ..., &#x27;chrY&#x27;, &#x27;chrY&#x27;, &#x27;chrY&#x27;], dtype=object)</pre></div></li><li class='xr-var-item'><div class='xr-var-name'><span>chromEnd</span></div><div class='xr-var-dims'>(_sequence)</div><div class='xr-var-dtype'>int64</div><div class='xr-var-preview xr-preview'>184756122 88993998 ... 56877298</div><input id='attrs-04a78540-46b0-4253-8c09-5289d2c56b2f' class='xr-var-attrs-in' type='checkbox' ><label for='attrs-04a78540-46b0-4253-8c09-5289d2c56b2f' title='Show/Hide attributes'><svg class='icon xr-icon-file-text2'><use xlink:href='#icon-file-text2'></use></svg></label><input id='data-3a3a88ce-4213-4154-ad37-2dbb14ff425f' class='xr-var-data-in' type='checkbox'><label for='data-3a3a88ce-4213-4154-ad37-2dbb14ff425f' title='Show/Hide data repr'><svg class='icon xr-icon-database'><use xlink:href='#icon-database'></use></svg></label><div class='xr-var-attrs'><dl class='xr-attrs'><dt><span>_FillValue :</span></dt><dd>0</dd></dl></div><div class='xr-var-data'><pre>array([184756122,  88993998, 162791950, ...,  56845588,  56862500,\n",
       "        56877298])</pre></div></li><li class='xr-var-item'><div class='xr-var-name'><span>chromStart</span></div><div class='xr-var-dims'>(_sequence)</div><div class='xr-var-dtype'>int64</div><div class='xr-var-preview xr-preview'>184753752 88991628 ... 56874928</div><input id='attrs-4f09b081-5752-4aa9-b6e6-b4189748f8f5' class='xr-var-attrs-in' type='checkbox' ><label for='attrs-4f09b081-5752-4aa9-b6e6-b4189748f8f5' title='Show/Hide attributes'><svg class='icon xr-icon-file-text2'><use xlink:href='#icon-file-text2'></use></svg></label><input id='data-a7ccaa45-d37f-4f9a-993d-02d56ed8c0eb' class='xr-var-data-in' type='checkbox'><label for='data-a7ccaa45-d37f-4f9a-993d-02d56ed8c0eb' title='Show/Hide data repr'><svg class='icon xr-icon-database'><use xlink:href='#icon-database'></use></svg></label><div class='xr-var-attrs'><dl class='xr-attrs'><dt><span>_FillValue :</span></dt><dd>0</dd></dl></div><div class='xr-var-data'><pre>array([184753752,  88991628, 162789580, ...,  56843218,  56860130,\n",
       "        56874928])</pre></div></li><li class='xr-var-item'><div class='xr-var-name'><span>cov</span></div><div class='xr-var-dims'>(_sequence, cov_sample, _length)</div><div class='xr-var-dtype'>float32</div><div class='xr-var-preview xr-preview'>0.0 0.0 0.0 0.0 ... 0.0 0.0 0.0 0.0</div><input id='attrs-c0a0019a-9a5a-489a-8653-56bc375eec94' class='xr-var-attrs-in' type='checkbox' ><label for='attrs-c0a0019a-9a5a-489a-8653-56bc375eec94' title='Show/Hide attributes'><svg class='icon xr-icon-file-text2'><use xlink:href='#icon-file-text2'></use></svg></label><input id='data-06ed36b6-7669-4481-8ab5-3dd3e9537135' class='xr-var-data-in' type='checkbox'><label for='data-06ed36b6-7669-4481-8ab5-3dd3e9537135' title='Show/Hide data repr'><svg class='icon xr-icon-database'><use xlink:href='#icon-database'></use></svg></label><div class='xr-var-attrs'><dl class='xr-attrs'><dt><span>_FillValue :</span></dt><dd>0.0</dd></dl></div><div class='xr-var-data'><pre>array([[[0., 0., 0., ..., 0., 0., 0.]],\n",
       "\n",
       "       [[0., 0., 0., ..., 0., 0., 0.]],\n",
       "\n",
       "       [[0., 0., 0., ..., 0., 0., 0.]],\n",
       "\n",
       "       ...,\n",
       "\n",
       "       [[0., 0., 0., ..., 0., 0., 0.]],\n",
       "\n",
       "       [[0., 0., 0., ..., 0., 0., 0.]],\n",
       "\n",
       "       [[0., 0., 0., ..., 0., 0., 0.]]], dtype=float32)</pre></div></li><li class='xr-var-item'><div class='xr-var-name'><span>name</span></div><div class='xr-var-dims'>(_sequence)</div><div class='xr-var-dtype'>object</div><div class='xr-var-preview xr-preview'>&#x27;peak&#x27; ... &#x27;gc_matched_negative&#x27;</div><input id='attrs-8840df6f-2180-46f8-95b1-77c08d9f7278' class='xr-var-attrs-in' type='checkbox' ><label for='attrs-8840df6f-2180-46f8-95b1-77c08d9f7278' title='Show/Hide attributes'><svg class='icon xr-icon-file-text2'><use xlink:href='#icon-file-text2'></use></svg></label><input id='data-7652663a-b5cf-4e9c-9e80-7ccaa69d611c' class='xr-var-data-in' type='checkbox'><label for='data-7652663a-b5cf-4e9c-9e80-7ccaa69d611c' title='Show/Hide data repr'><svg class='icon xr-icon-database'><use xlink:href='#icon-database'></use></svg></label><div class='xr-var-attrs'><dl class='xr-attrs'><dt><span>_FillValue :</span></dt><dd>0</dd></dl></div><div class='xr-var-data'><pre>array([&#x27;peak&#x27;, &#x27;peak&#x27;, &#x27;peak&#x27;, ..., &#x27;gc_matched_negative&#x27;,\n",
       "       &#x27;gc_matched_negative&#x27;, &#x27;gc_matched_negative&#x27;], dtype=object)</pre></div></li><li class='xr-var-item'><div class='xr-var-name'><span>seq</span></div><div class='xr-var-dims'>(_sequence, _length)</div><div class='xr-var-dtype'>|S1</div><div class='xr-var-preview xr-preview'>b&#x27;T&#x27; b&#x27;T&#x27; b&#x27;T&#x27; ... b&#x27;T&#x27; b&#x27;C&#x27; b&#x27;A&#x27;</div><input id='attrs-69f985c7-354c-417a-a827-22f9a0f48844' class='xr-var-attrs-in' type='checkbox' disabled><label for='attrs-69f985c7-354c-417a-a827-22f9a0f48844' title='Show/Hide attributes'><svg class='icon xr-icon-file-text2'><use xlink:href='#icon-file-text2'></use></svg></label><input id='data-c7332673-f807-4797-88e0-59882f709390' class='xr-var-data-in' type='checkbox'><label for='data-c7332673-f807-4797-88e0-59882f709390' title='Show/Hide data repr'><svg class='icon xr-icon-database'><use xlink:href='#icon-database'></use></svg></label><div class='xr-var-attrs'><dl class='xr-attrs'></dl></div><div class='xr-var-data'><pre>array([[b&#x27;T&#x27;, b&#x27;T&#x27;, b&#x27;T&#x27;, ..., b&#x27;G&#x27;, b&#x27;T&#x27;, b&#x27;C&#x27;],\n",
       "       [b&#x27;C&#x27;, b&#x27;C&#x27;, b&#x27;A&#x27;, ..., b&#x27;A&#x27;, b&#x27;T&#x27;, b&#x27;T&#x27;],\n",
       "       [b&#x27;C&#x27;, b&#x27;A&#x27;, b&#x27;A&#x27;, ..., b&#x27;A&#x27;, b&#x27;G&#x27;, b&#x27;G&#x27;],\n",
       "       ...,\n",
       "       [b&#x27;C&#x27;, b&#x27;T&#x27;, b&#x27;G&#x27;, ..., b&#x27;T&#x27;, b&#x27;G&#x27;, b&#x27;T&#x27;],\n",
       "       [b&#x27;A&#x27;, b&#x27;T&#x27;, b&#x27;T&#x27;, ..., b&#x27;A&#x27;, b&#x27;T&#x27;, b&#x27;T&#x27;],\n",
       "       [b&#x27;T&#x27;, b&#x27;G&#x27;, b&#x27;C&#x27;, ..., b&#x27;T&#x27;, b&#x27;C&#x27;, b&#x27;A&#x27;]], dtype=&#x27;|S1&#x27;)</pre></div></li><li class='xr-var-item'><div class='xr-var-name'><span>strand</span></div><div class='xr-var-dims'>(_sequence)</div><div class='xr-var-dtype'>object</div><div class='xr-var-preview xr-preview'>&#x27;+&#x27; &#x27;+&#x27; &#x27;+&#x27; &#x27;+&#x27; ... &#x27;+&#x27; &#x27;+&#x27; &#x27;+&#x27; &#x27;+&#x27;</div><input id='attrs-97466846-8ca2-4392-8ed8-79cd44aa9bd4' class='xr-var-attrs-in' type='checkbox' ><label for='attrs-97466846-8ca2-4392-8ed8-79cd44aa9bd4' title='Show/Hide attributes'><svg class='icon xr-icon-file-text2'><use xlink:href='#icon-file-text2'></use></svg></label><input id='data-0b135ebd-f7f6-4358-90f1-4aa09b1fd56d' class='xr-var-data-in' type='checkbox'><label for='data-0b135ebd-f7f6-4358-90f1-4aa09b1fd56d' title='Show/Hide data repr'><svg class='icon xr-icon-database'><use xlink:href='#icon-database'></use></svg></label><div class='xr-var-attrs'><dl class='xr-attrs'><dt><span>_FillValue :</span></dt><dd>0</dd></dl></div><div class='xr-var-data'><pre>array([&#x27;+&#x27;, &#x27;+&#x27;, &#x27;+&#x27;, ..., &#x27;+&#x27;, &#x27;+&#x27;, &#x27;+&#x27;], dtype=object)</pre></div></li></ul></div></li><li class='xr-section-item'><input id='section-ba0ae76b-d28f-4e1c-ae30-3ce7af7146ef' class='xr-section-summary-in' type='checkbox'  ><label for='section-ba0ae76b-d28f-4e1c-ae30-3ce7af7146ef' class='xr-section-summary' >Indexes: <span>(1)</span></label><div class='xr-section-inline-details'></div><div class='xr-section-details'><ul class='xr-var-list'><li class='xr-var-item'><div class='xr-index-name'><div>cov_sample</div></div><div class='xr-index-preview'>PandasIndex</div><div></div><input id='index-78959395-5e38-4e9b-9c56-3b7763c6c035' class='xr-index-data-in' type='checkbox'/><label for='index-78959395-5e38-4e9b-9c56-3b7763c6c035' title='Show/Hide index repr'><svg class='icon xr-icon-database'><use xlink:href='#icon-database'></use></svg></label><div class='xr-index-data'><pre>PandasIndex(Index([&#x27;beta_1&#x27;], dtype=&#x27;object&#x27;, name=&#x27;cov_sample&#x27;))</pre></div></li></ul></div></li><li class='xr-section-item'><input id='section-8f918ab0-83bb-4ee4-bcae-ca389cc20590' class='xr-section-summary-in' type='checkbox'  checked><label for='section-8f918ab0-83bb-4ee4-bcae-ca389cc20590' class='xr-section-summary' >Attributes: <span>(3)</span></label><div class='xr-section-inline-details'></div><div class='xr-section-details'><dl class='xr-attrs'><dt><span>length_dim :</span></dt><dd>_length</dd><dt><span>max_jitter :</span></dt><dd>128</dd><dt><span>sequence_dim :</span></dt><dd>_sequence</dd></dl></div></li></ul></div></div>"
      ],
      "text/plain": [
       "<xarray.Dataset>\n",
       "Dimensions:     (_sequence: 388068, cov_sample: 1, _length: 2370)\n",
       "Coordinates:\n",
       "  * cov_sample  (cov_sample) object 'beta_1'\n",
       "Dimensions without coordinates: _sequence, _length\n",
       "Data variables:\n",
       "    chrom       (_sequence) object 'chr1' 'chr1' 'chr1' ... 'chrY' 'chrY' 'chrY'\n",
       "    chromEnd    (_sequence) int64 184756122 88993998 ... 56862500 56877298\n",
       "    chromStart  (_sequence) int64 184753752 88991628 ... 56860130 56874928\n",
       "    cov         (_sequence, cov_sample, _length) float32 0.0 0.0 0.0 ... 0.0 0.0\n",
       "    name        (_sequence) object 'peak' 'peak' ... 'gc_matched_negative'\n",
       "    seq         (_sequence, _length) |S1 b'T' b'T' b'T' b'C' ... b'T' b'C' b'A'\n",
       "    strand      (_sequence) object '+' '+' '+' '+' '+' ... '+' '+' '+' '+' '+'\n",
       "Attributes:\n",
       "    length_dim:    _length\n",
       "    max_jitter:    128\n",
       "    sequence_dim:  _sequence"
      ]
     },
     "execution_count": 6,
     "metadata": {},
     "output_type": "execute_result"
    }
   ],
   "source": [
    "# Load in the SeqData object\n",
    "sdata = sd.open_zarr(\"/cellar/users/aklie/data/datasets/Chiou2021_islet_snATAC-seq/results/sequence_models/zarrs/beta_1.zarr\")\n",
    "sdata.load()"
   ]
  },
  {
   "cell_type": "code",
   "execution_count": 7,
   "metadata": {},
   "outputs": [],
   "source": [
    "# Need to upper case the seqs and add ohe\n",
    "sdata[\"seq\"] = xr.DataArray(np.char.upper(sdata[\"seq\"]), dims=[\"_sequence\", \"_length\"])\n",
    "sdata[\"ohe_seq\"] = xr.DataArray(sp.ohe(sdata[\"seq\"].values, alphabet=sp.DNA), dims=[\"_sequence\", \"_length\", \"_alphabet\"]).transpose(\"_sequence\", \"_alphabet\", \"_length\")"
   ]
  },
  {
   "cell_type": "code",
   "execution_count": 8,
   "metadata": {},
   "outputs": [],
   "source": [
    "# Grab some data\n",
    "test_seqs = torch.tensor(sdata[\"ohe_seq\"][:10].values, dtype=torch.float32)\n",
    "test_cov = torch.tensor(sdata[\"cov\"][:10].values, dtype=torch.float32)\n",
    "test_dict = {\"ohe_seq\": test_seqs}\n",
    "targets_dict = {\"cov\": test_cov}"
   ]
  },
  {
   "cell_type": "markdown",
   "metadata": {},
   "source": [
    "# Architecture"
   ]
  },
  {
   "cell_type": "code",
   "execution_count": 9,
   "metadata": {},
   "outputs": [],
   "source": [
    "from bpnetlite.bpnet import BPNet"
   ]
  },
  {
   "cell_type": "code",
   "execution_count": 10,
   "metadata": {},
   "outputs": [
    {
     "data": {
      "text/plain": [
       "(2114, 1000, 557)"
      ]
     },
     "execution_count": 10,
     "metadata": {},
     "output_type": "execute_result"
    }
   ],
   "source": [
    "seq_len = 2114\n",
    "target_len = 1000\n",
    "trimming = (seq_len - target_len) // 2\n",
    "seq_len, target_len, trimming"
   ]
  },
  {
   "cell_type": "code",
   "execution_count": 11,
   "metadata": {},
   "outputs": [
    {
     "data": {
      "text/plain": [
       "(BPNet(\n",
       "   (iconv): Conv1d(4, 64, kernel_size=(21,), stride=(1,), padding=(10,))\n",
       "   (irelu): ReLU()\n",
       "   (rconvs): ModuleList(\n",
       "     (0): Conv1d(64, 64, kernel_size=(3,), stride=(1,), padding=(2,), dilation=(2,))\n",
       "     (1): Conv1d(64, 64, kernel_size=(3,), stride=(1,), padding=(4,), dilation=(4,))\n",
       "     (2): Conv1d(64, 64, kernel_size=(3,), stride=(1,), padding=(8,), dilation=(8,))\n",
       "     (3): Conv1d(64, 64, kernel_size=(3,), stride=(1,), padding=(16,), dilation=(16,))\n",
       "     (4): Conv1d(64, 64, kernel_size=(3,), stride=(1,), padding=(32,), dilation=(32,))\n",
       "     (5): Conv1d(64, 64, kernel_size=(3,), stride=(1,), padding=(64,), dilation=(64,))\n",
       "     (6): Conv1d(64, 64, kernel_size=(3,), stride=(1,), padding=(128,), dilation=(128,))\n",
       "     (7): Conv1d(64, 64, kernel_size=(3,), stride=(1,), padding=(256,), dilation=(256,))\n",
       "   )\n",
       "   (rrelus): ModuleList(\n",
       "     (0-7): 8 x ReLU()\n",
       "   )\n",
       "   (fconv): Conv1d(64, 1, kernel_size=(75,), stride=(1,), padding=(37,))\n",
       "   (linear): Linear(in_features=64, out_features=1, bias=True)\n",
       " ),\n",
       " torch.Size([10, 1, 1256]),\n",
       " torch.Size([10, 1]))"
      ]
     },
     "execution_count": 11,
     "metadata": {},
     "output_type": "execute_result"
    }
   ],
   "source": [
    "arch = BPNet(n_outputs=1, n_control_tracks=0, trimming=trimming)\n",
    "arch, arch(test_seqs)[0].shape, arch(test_seqs)[1].shape"
   ]
  },
  {
   "cell_type": "markdown",
   "metadata": {},
   "source": [
    "# Training module"
   ]
  },
  {
   "cell_type": "code",
   "execution_count": 12,
   "metadata": {},
   "outputs": [],
   "source": [
    "from seqmodels import Module\n",
    "\n",
    "import sys\n",
    "sys.path.append(\"/cellar/users/aklie/data/datasets/Chiou2021_islet_snATAC-seq/bin/sequence_models\")\n",
    "from bpnet_utils import bpnetlite_loss, bpnetlite_metrics"
   ]
  },
  {
   "cell_type": "code",
   "execution_count": 13,
   "metadata": {},
   "outputs": [
    {
     "data": {
      "text/plain": [
       "(Module(\n",
       "   (arch): BPNet(\n",
       "     (iconv): Conv1d(4, 64, kernel_size=(21,), stride=(1,), padding=(10,))\n",
       "     (irelu): ReLU()\n",
       "     (rconvs): ModuleList(\n",
       "       (0): Conv1d(64, 64, kernel_size=(3,), stride=(1,), padding=(2,), dilation=(2,))\n",
       "       (1): Conv1d(64, 64, kernel_size=(3,), stride=(1,), padding=(4,), dilation=(4,))\n",
       "       (2): Conv1d(64, 64, kernel_size=(3,), stride=(1,), padding=(8,), dilation=(8,))\n",
       "       (3): Conv1d(64, 64, kernel_size=(3,), stride=(1,), padding=(16,), dilation=(16,))\n",
       "       (4): Conv1d(64, 64, kernel_size=(3,), stride=(1,), padding=(32,), dilation=(32,))\n",
       "       (5): Conv1d(64, 64, kernel_size=(3,), stride=(1,), padding=(64,), dilation=(64,))\n",
       "       (6): Conv1d(64, 64, kernel_size=(3,), stride=(1,), padding=(128,), dilation=(128,))\n",
       "       (7): Conv1d(64, 64, kernel_size=(3,), stride=(1,), padding=(256,), dilation=(256,))\n",
       "     )\n",
       "     (rrelus): ModuleList(\n",
       "       (0-7): 8 x ReLU()\n",
       "     )\n",
       "     (fconv): Conv1d(64, 1, kernel_size=(75,), stride=(1,), padding=(37,))\n",
       "     (linear): Linear(in_features=64, out_features=1, bias=True)\n",
       "   )\n",
       "   (loss_fxn): GeneralLoss()\n",
       "   (val_metrics_fxn): GeneralMetric()\n",
       " ),\n",
       " torch.Size([10, 1, 1256]),\n",
       " torch.Size([10, 1]))"
      ]
     },
     "execution_count": 13,
     "metadata": {},
     "output_type": "execute_result"
    }
   ],
   "source": [
    "module = Module(\n",
    "    arch=arch,\n",
    "    input_vars=[\"ohe_seq\"],\n",
    "    output_vars=[\"profile\", \"counts\"],\n",
    "    target_vars=[\"cov\"],\n",
    "    loss_fxn=bpnetlite_loss,\n",
    "    val_metrics_fxn=bpnetlite_metrics,\n",
    "    val_metrics_kwargs={\"alpha\": arch.alpha},\n",
    "    optimizer=\"adam\",\n",
    "    optimizer_lr=1e-3,\n",
    ")\n",
    "module, module(test_dict)[0].shape, module(test_dict)[1].shape"
   ]
  },
  {
   "cell_type": "markdown",
   "metadata": {},
   "source": [
    "# Dataloaders"
   ]
  },
  {
   "cell_type": "code",
   "execution_count": 14,
   "metadata": {},
   "outputs": [],
   "source": [
    "import sys\n",
    "sys.path.append(\"/cellar/users/aklie/data/datasets/Chiou2021_islet_snATAC-seq/bin/sequence_models\")\n",
    "from bpnet_utils import get_transforms"
   ]
  },
  {
   "cell_type": "code",
   "execution_count": 15,
   "metadata": {},
   "outputs": [
    {
     "name": "stdout",
     "output_type": "stream",
     "text": [
      "Train: 263053\n",
      "Valid: 28158\n",
      "Test: 79850\n"
     ]
    }
   ],
   "source": [
    "# Split into train, valid, test\n",
    "train_sdata = sdata.sel(_sequence=(sdata[\"chrom\"].isin(train_chroms)).compute())\n",
    "valid_sdata = sdata.sel(_sequence=(sdata[\"chrom\"].isin(valid_chroms)).compute())\n",
    "test_sdata = sdata.sel(_sequence=(sdata[\"chrom\"].isin(test_chroms)).compute())\n",
    "print(f\"Train: {len(train_sdata['seq'])}\")\n",
    "print(f\"Valid: {len(valid_sdata['seq'])}\")\n",
    "print(f\"Test: {len(test_sdata['seq'])}\")"
   ]
  },
  {
   "cell_type": "code",
   "execution_count": 16,
   "metadata": {},
   "outputs": [],
   "source": [
    "# Dataloader params\n",
    "max_jitter = 128\n",
    "rc_prob = 0.5\n",
    "train_transforms = get_transforms(jitter=True, rc=True, trimming=trimming, max_jitter=max_jitter, rc_prob=rc_prob)\n",
    "valid_transforms = get_transforms(jitter=False, rc=False, trimming=trimming, max_jitter=max_jitter, rc_prob=rc_prob)"
   ]
  },
  {
   "cell_type": "code",
   "execution_count": 17,
   "metadata": {},
   "outputs": [
    {
     "name": "stderr",
     "output_type": "stream",
     "text": [
      "/cellar/users/aklie/opt/miniconda3/envs/ml4gland/lib/python3.9/site-packages/xarray/core/utils.py:494: FutureWarning: The return type of `Dataset.dims` will be changed to return a set of dimension names in future, in order to be more consistent with `DataArray.dims`. To access a mapping from dimension names to lengths, please use `Dataset.sizes`.\n",
      "  warnings.warn(\n"
     ]
    },
    {
     "data": {
      "text/plain": [
       "(torch.Size([32, 4, 2114]), torch.Size([32, 1, 1000]))"
      ]
     },
     "execution_count": 17,
     "metadata": {},
     "output_type": "execute_result"
    }
   ],
   "source": [
    "# Get the train dataloader\n",
    "train_dl = sd.get_torch_dataloader(\n",
    "    train_sdata,\n",
    "    sample_dims=['_sequence'],\n",
    "    variables=['ohe_seq', 'cov'],\n",
    "    prefetch_factor=None,\n",
    "    batch_size=32,\n",
    "    transforms=train_transforms,\n",
    "    return_tuples=False,\n",
    "    shuffle=True,\n",
    ")\n",
    "batch = next(iter(train_dl))\n",
    "batch['ohe_seq'].shape, batch['cov'].shape"
   ]
  },
  {
   "cell_type": "code",
   "execution_count": 18,
   "metadata": {},
   "outputs": [
    {
     "data": {
      "text/plain": [
       "(torch.Size([64, 4, 2114]), torch.Size([64, 1, 1000]))"
      ]
     },
     "execution_count": 18,
     "metadata": {},
     "output_type": "execute_result"
    }
   ],
   "source": [
    "# Valid dataloader\n",
    "valid_dl = sd.get_torch_dataloader(\n",
    "    valid_sdata,\n",
    "    sample_dims=['_sequence'],\n",
    "    variables=['ohe_seq', 'cov'],\n",
    "    prefetch_factor=None,\n",
    "    batch_size=64,\n",
    "    transforms=valid_transforms,\n",
    "    return_tuples=False,\n",
    "    shuffle=False,\n",
    ")\n",
    "batch = next(iter(valid_dl))\n",
    "batch[\"ohe_seq\"].shape, batch[\"cov\"].shape"
   ]
  },
  {
   "cell_type": "markdown",
   "metadata": {},
   "source": [
    "# Trainer"
   ]
  },
  {
   "cell_type": "code",
   "execution_count": 19,
   "metadata": {},
   "outputs": [],
   "source": [
    "from pytorch_lightning import Trainer"
   ]
  },
  {
   "cell_type": "code",
   "execution_count": 20,
   "metadata": {},
   "outputs": [],
   "source": [
    "# Logger\n",
    "from pytorch_lightning.loggers import CSVLogger\n",
    "logger = CSVLogger(save_dir=\"log\", name=\"\", version=\"\")"
   ]
  },
  {
   "cell_type": "code",
   "execution_count": 21,
   "metadata": {},
   "outputs": [],
   "source": [
    "# Add ModelCheckpoint, EarlyStopping and LearningRateMonitor callbacks\n",
    "from pytorch_lightning.callbacks import ModelCheckpoint, EarlyStopping, LearningRateMonitor\n",
    "callbacks = [\n",
    "ModelCheckpoint(\n",
    "    dirpath=os.path.join(\n",
    "        logger.save_dir, \n",
    "        logger.name, \n",
    "        logger.version, \n",
    "        \"checkpoints\"\n",
    "    ),\n",
    "    save_top_k=5,\n",
    "    monitor=\"val_loss_epoch\",\n",
    ")\n",
    "]"
   ]
  },
  {
   "cell_type": "code",
   "execution_count": 22,
   "metadata": {},
   "outputs": [
    {
     "name": "stderr",
     "output_type": "stream",
     "text": [
      "/cellar/users/aklie/opt/miniconda3/envs/ml4gland/lib/python3.9/site-packages/lightning_fabric/plugins/environments/slurm.py:165: PossibleUserWarning: The `srun` command is available on your system but is not used. HINT: If your intention is to run Lightning on SLURM, prepend your python command with `srun` like so: srun python /cellar/users/aklie/opt/miniconda3/envs/ml4gland/lib ...\n",
      "  rank_zero_warn(\n",
      "GPU available: True (cuda), used: True\n",
      "TPU available: False, using: 0 TPU cores\n",
      "IPU available: False, using: 0 IPUs\n",
      "HPU available: False, using: 0 HPUs\n",
      "TPU available: False, using: 0 TPU cores\n",
      "IPU available: False, using: 0 IPUs\n",
      "HPU available: False, using: 0 HPUs\n"
     ]
    }
   ],
   "source": [
    "# Trainer\n",
    "trainer = Trainer(\n",
    "    logger=logger,\n",
    "    callbacks=callbacks,\n",
    "    max_epochs=50,\n",
    ")"
   ]
  },
  {
   "cell_type": "markdown",
   "metadata": {},
   "source": [
    "# Fit"
   ]
  },
  {
   "cell_type": "code",
   "execution_count": null,
   "metadata": {},
   "outputs": [],
   "source": [
    "# Fit the weigths\n",
    "trainer.fit(module, train_dl, valid_dl)"
   ]
  },
  {
   "cell_type": "code",
   "execution_count": 24,
   "metadata": {},
   "outputs": [
    {
     "data": {
      "text/plain": [
       "0"
      ]
     },
     "execution_count": 24,
     "metadata": {},
     "output_type": "execute_result"
    }
   ],
   "source": [
    "# Copy the best weights\n",
    "best_model_path = trainer.checkpoint_callback.best_model_path\n",
    "copy_path = os.path.join(\"best_model.ckpt\")\n",
    "os.system(f\"cp {best_model_path} {copy_path}\")"
   ]
  },
  {
   "cell_type": "markdown",
   "metadata": {},
   "source": [
    "# Training summary"
   ]
  },
  {
   "cell_type": "code",
   "execution_count": 26,
   "metadata": {},
   "outputs": [],
   "source": [
    "import sys\n",
    "sys.path.append(\"/cellar/users/aklie/data/datasets/Chiou2021_islet_snATAC-seq/bin/sequence_models\")\n",
    "from utils import training_summary"
   ]
  },
  {
   "cell_type": "code",
   "execution_count": 27,
   "metadata": {},
   "outputs": [],
   "source": [
    "# Save a loss curve\n",
    "training_summary(logger.save_dir, logger=\"csv\", save=\"training_summary.png\")"
   ]
  },
  {
   "cell_type": "markdown",
   "metadata": {},
   "source": [
    "# Performance"
   ]
  },
  {
   "cell_type": "code",
   "execution_count": 28,
   "metadata": {},
   "outputs": [],
   "source": [
    "import sys\n",
    "sys.path.append(\"/cellar/users/aklie/data/datasets/Chiou2021_islet_snATAC-seq/bin/sequence_models\")\n",
    "from bpnet_utils import crop\n",
    "from utils import scatter"
   ]
  },
  {
   "cell_type": "code",
   "execution_count": 29,
   "metadata": {},
   "outputs": [],
   "source": [
    "# Grab the best model weights\n",
    "module = Module.load_from_checkpoint(\n",
    "    \"best_model.ckpt\", \n",
    "    arch=arch,\n",
    "    input_vars=[\"ohe_seq\"],\n",
    "    output_vars=[\"profile\", \"counts\"],\n",
    "    target_vars=[\"cov\"],\n",
    "    loss_fxn=bpnetlite_loss,\n",
    "    val_metrics_fxn=bpnetlite_metrics,\n",
    "    val_metrics_kwargs={\"alpha\": arch.alpha},\n",
    "    optimizer=\"adam\",\n",
    "    optimizer_lr=1e-3,\n",
    ").eval().cuda()"
   ]
  },
  {
   "cell_type": "code",
   "execution_count": 31,
   "metadata": {},
   "outputs": [
    {
     "data": {
      "text/plain": [
       "(torch.Size([79850, 4, 2114]), torch.Size([79850, 1, 1000]))"
      ]
     },
     "execution_count": 31,
     "metadata": {},
     "output_type": "execute_result"
    }
   ],
   "source": [
    "# Get test data\n",
    "X_test = crop(test_sdata[\"ohe_seq\"].values, max_jitter=max_jitter)\n",
    "y_test = crop(test_sdata[\"cov\"].values, trimming=trimming, max_jitter=max_jitter)\n",
    "X_test.shape, y_test.shape"
   ]
  },
  {
   "cell_type": "code",
   "execution_count": 33,
   "metadata": {},
   "outputs": [
    {
     "data": {
      "application/vnd.jupyter.widget-view+json": {
       "model_id": "a9680392cec44a038cba8f5e80a1d350",
       "version_major": 2,
       "version_minor": 0
      },
      "text/plain": [
       "Predicting on batches:   0%|          | 0/311 [00:00<?, ?it/s]"
      ]
     },
     "metadata": {},
     "output_type": "display_data"
    },
    {
     "data": {
      "text/plain": [
       "(torch.Size([79850, 1, 1000]), torch.Size([79850, 1]))"
      ]
     },
     "execution_count": 33,
     "metadata": {},
     "output_type": "execute_result"
    }
   ],
   "source": [
    "# Get the predictions\n",
    "inputs_dict = {\"ohe_seq\": X_test}\n",
    "preds_dict = module.predict(inputs_dict, batch_size=256)\n",
    "preds_dict[\"profile\"].shape, preds_dict[\"counts\"].shape"
   ]
  },
  {
   "cell_type": "code",
   "execution_count": null,
   "metadata": {},
   "outputs": [],
   "source": [
    "# Get Performance\n",
    "targets_dict = {\"cov\": y_test.cuda()}\n",
    "metrics_dict = bpnetlite_metrics(preds_dict, targets_dict, alpha=arch.alpha)\n",
    "profile_corr = metrics_dict['profile_corr']\n",
    "count_corr = metrics_dict['count_corr']\n",
    "loss = metrics_dict['profile_mnll'].mean() + arch.alpha * metrics_dict['count_mse'].mean()"
   ]
  },
  {
   "cell_type": "code",
   "execution_count": 35,
   "metadata": {},
   "outputs": [],
   "source": [
    "# Save the final log\n",
    "final_log = pd.Series(\n",
    "    {\n",
    "        \"Epoch\": int(trainer.checkpoint_callback.best_model_path.split(\"epoch=\")[1].split(\"-step\")[0]),\n",
    "        \"Iteration\": int(trainer.checkpoint_callback.best_model_path.split(\"-step=\")[1].split(\".ckpt\")[0]),\n",
    "        \"Test MNLL\": metrics_dict['profile_mnll'].mean().item(),\n",
    "        \"Test Profile Pearson\": np.nan_to_num(profile_corr).mean(),\n",
    "        \"Test Count Pearson\": np.nan_to_num(count_corr).mean(),\n",
    "        \"Test Count MSE\": metrics_dict['count_mse'].mean().item(),\n",
    "    }\n",
    ")\n",
    "final_log.to_csv(\"final_log.csv\", index=True)"
   ]
  },
  {
   "cell_type": "code",
   "execution_count": 37,
   "metadata": {},
   "outputs": [],
   "source": [
    "# Grab the counts prediction\n",
    "true_log_counts = np.log(y_test.sum(axis=(1, 2)) + 1).numpy()\n",
    "y_counts = preds_dict[\"counts\"].cpu().detach().numpy().squeeze()"
   ]
  },
  {
   "cell_type": "code",
   "execution_count": 38,
   "metadata": {},
   "outputs": [],
   "source": [
    "# Save the predictions\n",
    "df = pd.DataFrame({\n",
    "    \"true_log_counts_total\": true_log_counts,\n",
    "    \"pred_log_counts_total\": y_counts,\n",
    "})\n",
    "df.to_csv(\"test_predictions.csv\", index=False)"
   ]
  },
  {
   "cell_type": "code",
   "execution_count": 39,
   "metadata": {},
   "outputs": [],
   "source": [
    "# Plot a nice blue color\n",
    "scatter(\n",
    "    x=true_log_counts,\n",
    "    y=y_counts,\n",
    "    c=\"#4682B4\",\n",
    "    alpha=0.8,\n",
    "    xlabel=\"Log true counts + 1\",\n",
    "    ylabel=\"Log pred counts + 1\",\n",
    "    density=True,\n",
    "    rasterized=True,\n",
    "    s=5,\n",
    "    save=\"counts_scatter.png\",\n",
    ")"
   ]
  },
  {
   "cell_type": "markdown",
   "metadata": {},
   "source": [
    "# DONE!"
   ]
  },
  {
   "cell_type": "markdown",
   "metadata": {},
   "source": [
    "---"
   ]
  }
 ],
 "metadata": {
  "kernelspec": {
   "display_name": "Python 3.9 ml4gland",
   "language": "python",
   "name": "ml4gland"
  }
 },
 "nbformat": 4,
 "nbformat_minor": 2
}
